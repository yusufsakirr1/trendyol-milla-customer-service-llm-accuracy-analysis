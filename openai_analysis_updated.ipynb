{
 "cells": [
  {
   "cell_type": "markdown",
   "metadata": {},
   "source": [
    "# Trendyol Mila Chatbot OpenAI API Entegrasyonu\n",
    "\n",
    "Bu notebook, hazırlanan veri seti üzerinde OpenAI **gpt-5-nano** ile **Structured JSON Schema** (Pydantic) kullanarak analiz yapar."
   ]
  },
  {
   "cell_type": "markdown",
   "metadata": {},
   "source": [
    "## 1. Gerekli Kütüphaneler ve API Kurulumu"
   ]
  },
  {
   "cell_type": "code",
   "execution_count": 1,
   "metadata": {},
   "outputs": [
    {
     "name": "stdout",
     "output_type": "stream",
     "text": [
      "✅ Kütüphaneler yüklendi! (Pydantic dahil)\n"
     ]
    }
   ],
   "source": [
    "import json\n",
    "import pandas as pd\n",
    "import numpy as np\n",
    "from typing import List, Dict, Any\n",
    "import time\n",
    "from datetime import datetime\n",
    "import os\n",
    "\n",
    "# OpenAI API\n",
    "from openai import OpenAI\n",
    "\n",
    "# Pydantic için structured output\n",
    "from pydantic import BaseModel\n",
    "\n",
    "# Görselleştirme\n",
    "import matplotlib.pyplot as plt\n",
    "import seaborn as sns\n",
    "\n",
    "print(\"✅ Kütüphaneler yüklendi! (Pydantic dahil)\")"
   ]
  },
  {
   "cell_type": "markdown",
   "metadata": {},
   "source": [
    "## 2. Kütüphane ve Sürüm Kontrolü"
   ]
  },
  {
   "cell_type": "code",
   "execution_count": 2,
   "metadata": {},
   "outputs": [
    {
     "name": "stdout",
     "output_type": "stream",
     "text": [
      "🔍 KÜTÜPHANE KONTROLÜ:\n",
      "========================================\n",
      "✅ OpenAI version: 1.106.1\n",
      "✅ Pydantic version: 2.11.7\n",
      "✅ OpenAI parse() metodu mevcut\n",
      "\n",
      "🧪 BASIT PYDANTİC TEST:\n",
      "✅ Pydantic çalışıyor: {'name': 'test'}\n"
     ]
    }
   ],
   "source": [
    "# KÜTÜPHANE VE SÜRÜM KONTROLÜ\n",
    "print(\"🔍 KÜTÜPHANE KONTROLÜ:\")\n",
    "print(\"=\" * 40)\n",
    "\n",
    "try:\n",
    "    import openai\n",
    "    print(f\"✅ OpenAI version: {openai.__version__}\")\n",
    "except Exception as e:\n",
    "    print(f\"❌ OpenAI error: {e}\")\n",
    "\n",
    "try:\n",
    "    from pydantic import BaseModel\n",
    "    import pydantic\n",
    "    print(f\"✅ Pydantic version: {pydantic.__version__}\")\n",
    "except Exception as e:\n",
    "    print(f\"❌ Pydantic error: {e}\")\n",
    "\n",
    "try:\n",
    "    from openai import OpenAI\n",
    "    test_client = OpenAI(api_key=\"test\")\n",
    "    if hasattr(test_client.chat.completions, 'parse'):\n",
    "        print(\"✅ OpenAI parse() metodu mevcut\")\n",
    "    else:\n",
    "        print(\"❌ OpenAI parse() metodu YOK - eski sürüm!\")\n",
    "except Exception as e:\n",
    "    print(f\"❌ OpenAI parse kontrolü: {e}\")\n",
    "\n",
    "print(\"\\n🧪 BASIT PYDANTİC TEST:\")\n",
    "class TestModel(BaseModel):\n",
    "    name: str\n",
    "\n",
    "try:\n",
    "    test = TestModel(name=\"test\")\n",
    "    print(f\"✅ Pydantic çalışıyor: {test.model_dump()}\")\n",
    "except Exception as e:\n",
    "    print(f\"❌ Pydantic hatası: {e}\")"
   ]
  },
  {
   "cell_type": "markdown",
   "metadata": {},
   "source": [
    "## 3. OpenAI API Key Ayarları"
   ]
  },
  {
   "cell_type": "code",
   "execution_count": null,
   "metadata": {},
   "outputs": [],
   "source": "# OpenAI API Key ayarlama - GÜVENLİK UYARISI: API key'i çevresel değişkenden alın\nAPI_KEY = os.getenv('OPENAI_API_KEY')\n\nif not API_KEY:\n    print(\"⚠️ OPENAI_API_KEY çevresel değişkeni tanımlı değil!\")\n    print(\"Terminal'de şu komutu çalıştırın: export OPENAI_API_KEY='your-openai-api-key-here'\")\n    # Geçici olarak direkt key kullanımı (production'da YAPMAYIN!)\n    API_KEY = \"your-openai-api-key-here\"\n\n# OpenAI Client oluştur\nclient = OpenAI(api_key=API_KEY)\n\nprint(\"✅ OpenAI API bağlantısı kuruldu\")"
  },
  {
   "cell_type": "markdown",
   "metadata": {},
   "source": [
    "## 4. Model Testi"
   ]
  },
  {
   "cell_type": "code",
   "execution_count": 4,
   "metadata": {},
   "outputs": [
    {
     "name": "stdout",
     "output_type": "stream",
     "text": [
      "🧪 gpt-5-nano modelini test ediyoruz...\n",
      "✅ gpt-5-nano BAŞARILI!\n",
      "Test yanıtı: \n"
     ]
    }
   ],
   "source": [
    "# OpenAI API gpt-5-nano test\n",
    "print(\"🧪 gpt-5-nano modelini test ediyoruz...\")\n",
    "\n",
    "try:\n",
    "    test_response = client.chat.completions.create(\n",
    "        model=\"gpt-5-nano\",\n",
    "        messages=[\n",
    "            {\"role\": \"user\", \"content\": \"Merhaba, API çalışıyor mu?\"}\n",
    "        ],\n",
    "        max_completion_tokens=50\n",
    "    )\n",
    "    \n",
    "    print(\"✅ gpt-5-nano BAŞARILI!\")\n",
    "    print(f\"Test yanıtı: {test_response.choices[0].message.content}\")\n",
    "    \n",
    "except Exception as e:\n",
    "    print(f\"❌ API bağlantı hatası: {e}\")\n",
    "    print(\"\\nOlası çözümler:\")\n",
    "    print(\"1. API key'inizi kontrol edin\")\n",
    "    print(\"2. İnternet bağlantınızı kontrol edin\")\n",
    "    print(\"3. OpenAI quota'nızı kontrol edin\")"
   ]
  },
  {
   "cell_type": "markdown",
   "metadata": {},
   "source": [
    "## 5. Hazırlanan Verileri Yükleme"
   ]
  },
  {
   "cell_type": "code",
   "execution_count": 5,
   "metadata": {},
   "outputs": [
    {
     "name": "stdout",
     "output_type": "stream",
     "text": [
      "📊 Yüklenen veri seti:\n",
      "  Sentiment analizi için: 40 sohbet\n",
      "  Intent sınıflandırması için: 40 sohbet\n",
      "  Çözüm durumu tahmini için: 40 sohbet\n"
     ]
    }
   ],
   "source": [
    "# Hazırlanan verileri yükle\n",
    "with open('prepared_data.json', 'r', encoding='utf-8') as f:\n",
    "    prepared_data = json.load(f)\n",
    "\n",
    "print(\"📊 Yüklenen veri seti:\")\n",
    "print(f\"  Sentiment analizi için: {len(prepared_data['sentiment_data'])} sohbet\")\n",
    "print(f\"  Intent sınıflandırması için: {len(prepared_data['intent_data'])} sohbet\")\n",
    "print(f\"  Çözüm durumu tahmini için: {len(prepared_data['resolution_data'])} sohbet\")"
   ]
  },
  {
   "cell_type": "markdown",
   "metadata": {},
   "source": [
    "## 6. Pydantic Modelleri - Structured JSON Schema"
   ]
  },
  {
   "cell_type": "code",
   "execution_count": 6,
   "metadata": {},
   "outputs": [
    {
     "name": "stdout",
     "output_type": "stream",
     "text": [
      "✅ Pydantic modelleri tanımlandı!\n"
     ]
    }
   ],
   "source": [
    "# Pydantic modelleri - Structured JSON Schema için\n",
    "class SentimentAnalysis(BaseModel):\n",
    "    sentiment: str  # \"Pozitif\", \"Negatif\", \"Nötr\"\n",
    "    explanation: str  # Açıklama\n",
    "\n",
    "class IntentAnalysis(BaseModel):\n",
    "    intent: str  # Ana kategori\n",
    "    detail: str  # Spesifik detay\n",
    "    category: str  # Tür: Şikayet/Sorun/Soru/İstek\n",
    "\n",
    "class ResolutionAnalysis(BaseModel):\n",
    "    status: str  # \"Çözüldü\", \"Çözülemedi\" \n",
    "    explanation: str  # Açıklama\n",
    "    confidence: str  # \"Yüksek\", \"Orta\", \"Düşük\"\n",
    "\n",
    "print(\"✅ Pydantic modelleri tanımlandı!\")"
   ]
  },
  {
   "cell_type": "markdown",
   "metadata": {},
   "source": [
    "## 7. OpenAI Analyzer Sınıfı - Structured Output ile"
   ]
  },
  {
   "cell_type": "code",
   "execution_count": 7,
   "metadata": {},
   "outputs": [
    {
     "name": "stdout",
     "output_type": "stream",
     "text": [
      "🤖 OpenAI Analyzer hazır! (Structured JSON Schema ile)\n"
     ]
    }
   ],
   "source": [
    "class OpenAIAnalyzer:\n",
    "    \"\"\"\n",
    "    OpenAI API ile sohbet analizi yapan sınıf - Structured JSON Schema ile\n",
    "    \"\"\"\n",
    "    \n",
    "    def __init__(self, client: OpenAI):\n",
    "        self.client = client\n",
    "        self.model = \"gpt-5-nano\"\n",
    "        self.results = {}\n",
    "    \n",
    "    def analyze_sentiment(self, conversation: str, chat_id: str) -> Dict:\n",
    "        \"\"\"\n",
    "        Structured output ile sentiment analizi\n",
    "        \"\"\"\n",
    "        system_prompt = \"\"\"Sen Trendyol müşteri hizmetleri uzmanısın. Sohbetlerin sentiment'ini analiz ediyorsun.\n",
    "\n",
    "SENTIMENT KURALLARI:\n",
    "• Pozitif: Müşteri teşekkür ediyor, memnun, sorun çözüldü, \"harika\", \"teşekkürler\" gibi kelimeler\n",
    "• Negatif: Müşteri kızgın, şikayet ediyor, \"berbat\", \"kötü\", \"sinirli\" gibi kelimeler  \n",
    "• Nötr: Normal soru-cevap, ne pozitif ne negatif\n",
    "\n",
    "Sohbeti analiz et ve sentiment ile kısa açıklama ver.\"\"\"\n",
    "        \n",
    "        try:\n",
    "            completion = self.client.chat.completions.parse(\n",
    "                model=self.model,\n",
    "                messages=[\n",
    "                    {\"role\": \"system\", \"content\": system_prompt},\n",
    "                    {\"role\": \"user\", \"content\": f\"Sohbet:\\n{conversation}\"}\n",
    "                ],\n",
    "                response_format=SentimentAnalysis,\n",
    "                max_completion_tokens=5000\n",
    "            )\n",
    "            \n",
    "            result = completion.choices[0].message.parsed\n",
    "            result_dict = result.model_dump()\n",
    "            \n",
    "            return {\n",
    "                'chat_id': chat_id,\n",
    "                'predicted_sentiment': result_dict['sentiment'],\n",
    "                'explanation': result_dict['explanation'],\n",
    "                'raw_response': str(result_dict)\n",
    "            }\n",
    "            \n",
    "        except Exception as e:\n",
    "            print(f\"❌ Sentiment analizi hatası (Chat {chat_id}): {e}\")\n",
    "            return {\n",
    "                'chat_id': chat_id,\n",
    "                'predicted_sentiment': 'Nötr',\n",
    "                'explanation': f'Hata: {str(e)}',\n",
    "                'raw_response': ''\n",
    "            }\n",
    "    \n",
    "    def analyze_intent(self, conversation: str, chat_id: str) -> Dict:\n",
    "        \"\"\"\n",
    "        Structured output ile intent analizi\n",
    "        \"\"\"\n",
    "        system_prompt = \"\"\"Sen Trendyol müşteri hizmetleri uzmanısın. Müşterinin asıl niyetini buluyorsun.\n",
    "\n",
    "INTENT KATEGORİLERİ:\n",
    "• İade: Ürün iade etmek istiyor\n",
    "• Ödeme: Ödeme sorunu, para kesimi, kart problemi  \n",
    "• Kargo: Teslimat sorunu, geç geldi, kayıp\n",
    "• İptal: Sipariş iptal etmek istiyor\n",
    "• Eksik ürün: Siparişte eksik ürün var\n",
    "• Ürün sorunu: Bozuk/kusurlu ürün geldi\n",
    "• Hesap: Hesap ayarları, profil sorunu\n",
    "• Şifre sıfırlama: Şifre unuttu, giriş yapamıyor\n",
    "• Destek: Genel soru, bilgi alma\n",
    "\n",
    "TÜR KATEGORİLERİ:\n",
    "• Şikayet: Memnuniyetsizlik dile getiriyor\n",
    "• Sorun: Teknik/operasyonel problem var\n",
    "• Soru: Bilgi öğrenmek istiyor\n",
    "• İstek: Bir işlem yapmasını istiyor\n",
    "\n",
    "Sohbeti analiz et ve müşterinin intent'ini, detayını ve türünü belirle.\"\"\"\n",
    "        \n",
    "        try:\n",
    "            completion = self.client.chat.completions.parse(\n",
    "                model=self.model,\n",
    "                messages=[\n",
    "                    {\"role\": \"system\", \"content\": system_prompt},\n",
    "                    {\"role\": \"user\", \"content\": f\"Sohbet:\\n{conversation}\"}\n",
    "                ],\n",
    "                response_format=IntentAnalysis,\n",
    "                max_completion_tokens=5000\n",
    "            )\n",
    "            \n",
    "            result = completion.choices[0].message.parsed\n",
    "            result_dict = result.model_dump()\n",
    "            \n",
    "            return {\n",
    "                'chat_id': chat_id,\n",
    "                'predicted_intent': result_dict['intent'],\n",
    "                'predicted_detail': result_dict['detail'],\n",
    "                'predicted_category': result_dict['category'],\n",
    "                'raw_response': str(result_dict)\n",
    "            }\n",
    "            \n",
    "        except Exception as e:\n",
    "            print(f\"❌ Intent analizi hatası (Chat {chat_id}): {e}\")\n",
    "            return {\n",
    "                'chat_id': chat_id,\n",
    "                'predicted_intent': 'Destek',\n",
    "                'predicted_detail': f'Hata: {str(e)}',\n",
    "                'predicted_category': 'Soru',\n",
    "                'raw_response': ''\n",
    "            }\n",
    "    \n",
    "    def predict_resolution(self, conversation: str, chat_id: str) -> Dict:\n",
    "        \"\"\"\n",
    "        Structured output ile çözüm durumu tahmini\n",
    "        \"\"\"\n",
    "        system_prompt = \"\"\"Sen Trendyol müşteri hizmetleri uzmanısın. Sohbetin çözülüp çözülmediğini değerlendiriyorsun.\n",
    "\n",
    "ÇÖZÜM DURUMU KURALLARI (GELİŞTİRİLMİŞ):\n",
    "  • Çözüldü: \n",
    "    - Somut aksiyon alındı (ürün gönderildi, para iadesi yapıldı, vb.) VEYA\n",
    "    - Müşteri bilgi istedi ve tatmin edici bilgi verildi + müşteri teşekkür etti VEYA\n",
    "    - Müşteri sorunu çözüldü dedi, \"tamam\", \"anladım\", \"teşekkürler\" gibi memnun ifadeler kullandı\n",
    "\n",
    "  • Çözülemedi:\n",
    "    - Sorun devam ediyor ve hiçbir aksiyon alınmadı VEYA\n",
    "    - Müşteri hala şikayet ediyor, tatmin olmamış VEYA\n",
    "    - Sadece \"bekleyin\", \"kontrol edeceğiz\" gibi belirsiz yanıtlar verildi\n",
    "\n",
    "  ÖNEMLİ: Bilgi verme de çözümdür! Müşteri iade prosedürü sordu ve bilgi verildi + teşekkür etti = Çözüldü\n",
    "\n",
    "  GÜVEN SEVİYELERİ:\n",
    "  • Yüksek: Net çözüm/çözümsüzlük belli\n",
    "  • Orta: Çoğunlukla belli ama kesin değil  \n",
    "  • Düşük: Belirsiz durum\n",
    "\n",
    "Sohbeti analiz et ve çözüm durumunu, açıklamasını ve güven seviyesini belirle.\"\"\"\n",
    "        \n",
    "        try:\n",
    "            completion = self.client.chat.completions.parse(\n",
    "                model=self.model,\n",
    "                messages=[\n",
    "                    {\"role\": \"system\", \"content\": system_prompt},\n",
    "                    {\"role\": \"user\", \"content\": f\"Sohbet:\\n{conversation}\"}\n",
    "                ],\n",
    "                response_format=ResolutionAnalysis,\n",
    "                max_completion_tokens=10000\n",
    "            )\n",
    "            \n",
    "            result = completion.choices[0].message.parsed\n",
    "            result_dict = result.model_dump()\n",
    "            \n",
    "            return {\n",
    "                'chat_id': chat_id,\n",
    "                'predicted_resolution': result_dict['status'],\n",
    "                'explanation': result_dict['explanation'],\n",
    "                'confidence': result_dict['confidence'],\n",
    "                'raw_response': str(result_dict)\n",
    "            }\n",
    "            \n",
    "        except Exception as e:\n",
    "            print(f\"❌ Çözüm durumu analizi hatası (Chat {chat_id}): {e}\")\n",
    "            return {\n",
    "                'chat_id': chat_id,\n",
    "                'predicted_resolution': 'Çözülemedi',\n",
    "                'explanation': f'Hata: {str(e)}',\n",
    "                'confidence': 'Düşük',\n",
    "                'raw_response': ''\n",
    "            }\n",
    "\n",
    "# Analyzer'ı başlat\n",
    "analyzer = OpenAIAnalyzer(client)\n",
    "print(\"🤖 OpenAI Analyzer hazır! (Structured JSON Schema ile)\")"
   ]
  },
  {
   "cell_type": "markdown",
   "metadata": {},
   "source": [
    "## 8. API Test - Tek Sohbet Analizi"
   ]
  },
  {
   "cell_type": "code",
   "execution_count": 8,
   "metadata": {},
   "outputs": [
    {
     "name": "stdout",
     "output_type": "stream",
     "text": [
      "🧪 YENİ STRUCTURED OUTPUT TESTİ:\n",
      "============================================================\n",
      "Test Sohbeti: 90001\n",
      "Gerçek Sentiment: Pozitif\n",
      "\n",
      "Sohbet içeriği:\n",
      "Bot: Merhaba! Ben AI Asistan. Size nasıl yardımcı olabilirim?\n",
      "Müşteri: Siparişimde bir ürün eksik geldi. Ne yapmalıyım?\n",
      "Bot: Sipariş numaranızı alabilir miyim?\n",
      "Müşteri: 98765432\n",
      "Bot: Kontrol ediyorum... Siparişinizde bir hata olduğunu görüyorum. Yeni ürününüz en kısa sürede gönderilecektir. Özür dileriz.\n",
      "Müşteri: Harika, teşekkür ederim!\n",
      "Bot: Rica ederim, iyi günler dileriz.\n"
     ]
    },
    {
     "ename": "KeyboardInterrupt",
     "evalue": "",
     "output_type": "error",
     "traceback": [
      "\u001b[0;31m---------------------------------------------------------------------------\u001b[0m",
      "\u001b[0;31mKeyboardInterrupt\u001b[0m                         Traceback (most recent call last)",
      "Cell \u001b[0;32mIn[8], line 12\u001b[0m\n\u001b[1;32m      9\u001b[0m \u001b[38;5;28mprint\u001b[39m(\u001b[38;5;124mf\u001b[39m\u001b[38;5;124m\"\u001b[39m\u001b[38;5;130;01m\\n\u001b[39;00m\u001b[38;5;124mSohbet içeriği:\u001b[39m\u001b[38;5;130;01m\\n\u001b[39;00m\u001b[38;5;132;01m{\u001b[39;00mtest_chat[\u001b[38;5;124m'\u001b[39m\u001b[38;5;124mconversation\u001b[39m\u001b[38;5;124m'\u001b[39m]\u001b[38;5;132;01m}\u001b[39;00m\u001b[38;5;124m\"\u001b[39m)\n\u001b[1;32m     11\u001b[0m \u001b[38;5;66;03m# Yeni structured output ile test\u001b[39;00m\n\u001b[0;32m---> 12\u001b[0m sentiment_result \u001b[38;5;241m=\u001b[39m \u001b[43manalyzer\u001b[49m\u001b[38;5;241;43m.\u001b[39;49m\u001b[43manalyze_sentiment\u001b[49m\u001b[43m(\u001b[49m\n\u001b[1;32m     13\u001b[0m \u001b[43m    \u001b[49m\u001b[43mtest_chat\u001b[49m\u001b[43m[\u001b[49m\u001b[38;5;124;43m'\u001b[39;49m\u001b[38;5;124;43mconversation\u001b[39;49m\u001b[38;5;124;43m'\u001b[39;49m\u001b[43m]\u001b[49m\u001b[43m,\u001b[49m\u001b[43m \u001b[49m\n\u001b[1;32m     14\u001b[0m \u001b[43m    \u001b[49m\u001b[38;5;28;43mstr\u001b[39;49m\u001b[43m(\u001b[49m\u001b[43mtest_chat\u001b[49m\u001b[43m[\u001b[49m\u001b[38;5;124;43m'\u001b[39;49m\u001b[38;5;124;43msohbet_id\u001b[39;49m\u001b[38;5;124;43m'\u001b[39;49m\u001b[43m]\u001b[49m\u001b[43m)\u001b[49m\n\u001b[1;32m     15\u001b[0m \u001b[43m)\u001b[49m\n\u001b[1;32m     17\u001b[0m \u001b[38;5;28mprint\u001b[39m(\u001b[38;5;124mf\u001b[39m\u001b[38;5;124m\"\u001b[39m\u001b[38;5;130;01m\\n\u001b[39;00m\u001b[38;5;124m📊 SENTIMENT SONUCU:\u001b[39m\u001b[38;5;124m\"\u001b[39m)\n\u001b[1;32m     18\u001b[0m \u001b[38;5;28mprint\u001b[39m(\u001b[38;5;124mf\u001b[39m\u001b[38;5;124m\"\u001b[39m\u001b[38;5;124mGerçek: \u001b[39m\u001b[38;5;132;01m{\u001b[39;00mtest_chat[\u001b[38;5;124m'\u001b[39m\u001b[38;5;124mground_truth_sentiment\u001b[39m\u001b[38;5;124m'\u001b[39m]\u001b[38;5;132;01m}\u001b[39;00m\u001b[38;5;124m\"\u001b[39m)\n",
      "Cell \u001b[0;32mIn[7], line 25\u001b[0m, in \u001b[0;36mOpenAIAnalyzer.analyze_sentiment\u001b[0;34m(self, conversation, chat_id)\u001b[0m\n\u001b[1;32m     15\u001b[0m         system_prompt \u001b[38;5;241m=\u001b[39m \u001b[38;5;124m\"\"\"\u001b[39m\u001b[38;5;124mSen Trendyol müşteri hizmetleri uzmanısın. Sohbetlerin sentiment\u001b[39m\u001b[38;5;124m'\u001b[39m\u001b[38;5;124mini analiz ediyorsun.\u001b[39m\n\u001b[1;32m     16\u001b[0m \n\u001b[1;32m     17\u001b[0m \u001b[38;5;124mSENTIMENT KURALLARI:\u001b[39m\n\u001b[0;32m   (...)\u001b[0m\n\u001b[1;32m     21\u001b[0m \n\u001b[1;32m     22\u001b[0m \u001b[38;5;124mSohbeti analiz et ve sentiment ile kısa açıklama ver.\u001b[39m\u001b[38;5;124m\"\"\"\u001b[39m\n\u001b[1;32m     24\u001b[0m         \u001b[38;5;28;01mtry\u001b[39;00m:\n\u001b[0;32m---> 25\u001b[0m             completion \u001b[38;5;241m=\u001b[39m \u001b[38;5;28;43mself\u001b[39;49m\u001b[38;5;241;43m.\u001b[39;49m\u001b[43mclient\u001b[49m\u001b[38;5;241;43m.\u001b[39;49m\u001b[43mchat\u001b[49m\u001b[38;5;241;43m.\u001b[39;49m\u001b[43mcompletions\u001b[49m\u001b[38;5;241;43m.\u001b[39;49m\u001b[43mparse\u001b[49m\u001b[43m(\u001b[49m\n\u001b[1;32m     26\u001b[0m \u001b[43m                \u001b[49m\u001b[43mmodel\u001b[49m\u001b[38;5;241;43m=\u001b[39;49m\u001b[38;5;28;43mself\u001b[39;49m\u001b[38;5;241;43m.\u001b[39;49m\u001b[43mmodel\u001b[49m\u001b[43m,\u001b[49m\n\u001b[1;32m     27\u001b[0m \u001b[43m                \u001b[49m\u001b[43mmessages\u001b[49m\u001b[38;5;241;43m=\u001b[39;49m\u001b[43m[\u001b[49m\n\u001b[1;32m     28\u001b[0m \u001b[43m                    \u001b[49m\u001b[43m{\u001b[49m\u001b[38;5;124;43m\"\u001b[39;49m\u001b[38;5;124;43mrole\u001b[39;49m\u001b[38;5;124;43m\"\u001b[39;49m\u001b[43m:\u001b[49m\u001b[43m \u001b[49m\u001b[38;5;124;43m\"\u001b[39;49m\u001b[38;5;124;43msystem\u001b[39;49m\u001b[38;5;124;43m\"\u001b[39;49m\u001b[43m,\u001b[49m\u001b[43m \u001b[49m\u001b[38;5;124;43m\"\u001b[39;49m\u001b[38;5;124;43mcontent\u001b[39;49m\u001b[38;5;124;43m\"\u001b[39;49m\u001b[43m:\u001b[49m\u001b[43m \u001b[49m\u001b[43msystem_prompt\u001b[49m\u001b[43m}\u001b[49m\u001b[43m,\u001b[49m\n\u001b[1;32m     29\u001b[0m \u001b[43m                    \u001b[49m\u001b[43m{\u001b[49m\u001b[38;5;124;43m\"\u001b[39;49m\u001b[38;5;124;43mrole\u001b[39;49m\u001b[38;5;124;43m\"\u001b[39;49m\u001b[43m:\u001b[49m\u001b[43m \u001b[49m\u001b[38;5;124;43m\"\u001b[39;49m\u001b[38;5;124;43muser\u001b[39;49m\u001b[38;5;124;43m\"\u001b[39;49m\u001b[43m,\u001b[49m\u001b[43m \u001b[49m\u001b[38;5;124;43m\"\u001b[39;49m\u001b[38;5;124;43mcontent\u001b[39;49m\u001b[38;5;124;43m\"\u001b[39;49m\u001b[43m:\u001b[49m\u001b[43m \u001b[49m\u001b[38;5;124;43mf\u001b[39;49m\u001b[38;5;124;43m\"\u001b[39;49m\u001b[38;5;124;43mSohbet:\u001b[39;49m\u001b[38;5;130;43;01m\\n\u001b[39;49;00m\u001b[38;5;132;43;01m{\u001b[39;49;00m\u001b[43mconversation\u001b[49m\u001b[38;5;132;43;01m}\u001b[39;49;00m\u001b[38;5;124;43m\"\u001b[39;49m\u001b[43m}\u001b[49m\n\u001b[1;32m     30\u001b[0m \u001b[43m                \u001b[49m\u001b[43m]\u001b[49m\u001b[43m,\u001b[49m\n\u001b[1;32m     31\u001b[0m \u001b[43m                \u001b[49m\u001b[43mresponse_format\u001b[49m\u001b[38;5;241;43m=\u001b[39;49m\u001b[43mSentimentAnalysis\u001b[49m\u001b[43m,\u001b[49m\n\u001b[1;32m     32\u001b[0m \u001b[43m                \u001b[49m\u001b[43mmax_completion_tokens\u001b[49m\u001b[38;5;241;43m=\u001b[39;49m\u001b[38;5;241;43m5000\u001b[39;49m\n\u001b[1;32m     33\u001b[0m \u001b[43m            \u001b[49m\u001b[43m)\u001b[49m\n\u001b[1;32m     35\u001b[0m             result \u001b[38;5;241m=\u001b[39m completion\u001b[38;5;241m.\u001b[39mchoices[\u001b[38;5;241m0\u001b[39m]\u001b[38;5;241m.\u001b[39mmessage\u001b[38;5;241m.\u001b[39mparsed\n\u001b[1;32m     36\u001b[0m             result_dict \u001b[38;5;241m=\u001b[39m result\u001b[38;5;241m.\u001b[39mmodel_dump()\n",
      "File \u001b[0;32m/opt/homebrew/lib/python3.9/site-packages/openai/resources/chat/completions/completions.py:183\u001b[0m, in \u001b[0;36mCompletions.parse\u001b[0;34m(self, messages, model, audio, response_format, frequency_penalty, function_call, functions, logit_bias, logprobs, max_completion_tokens, max_tokens, metadata, modalities, n, parallel_tool_calls, prediction, presence_penalty, prompt_cache_key, reasoning_effort, safety_identifier, seed, service_tier, stop, store, stream_options, temperature, tool_choice, tools, top_logprobs, top_p, user, verbosity, web_search_options, extra_headers, extra_query, extra_body, timeout)\u001b[0m\n\u001b[1;32m    176\u001b[0m \u001b[38;5;28;01mdef\u001b[39;00m\u001b[38;5;250m \u001b[39m\u001b[38;5;21mparser\u001b[39m(raw_completion: ChatCompletion) \u001b[38;5;241m-\u001b[39m\u001b[38;5;241m>\u001b[39m ParsedChatCompletion[ResponseFormatT]:\n\u001b[1;32m    177\u001b[0m     \u001b[38;5;28;01mreturn\u001b[39;00m _parse_chat_completion(\n\u001b[1;32m    178\u001b[0m         response_format\u001b[38;5;241m=\u001b[39mresponse_format,\n\u001b[1;32m    179\u001b[0m         chat_completion\u001b[38;5;241m=\u001b[39mraw_completion,\n\u001b[1;32m    180\u001b[0m         input_tools\u001b[38;5;241m=\u001b[39mchat_completion_tools,\n\u001b[1;32m    181\u001b[0m     )\n\u001b[0;32m--> 183\u001b[0m \u001b[38;5;28;01mreturn\u001b[39;00m \u001b[38;5;28;43mself\u001b[39;49m\u001b[38;5;241;43m.\u001b[39;49m\u001b[43m_post\u001b[49m\u001b[43m(\u001b[49m\n\u001b[1;32m    184\u001b[0m \u001b[43m    \u001b[49m\u001b[38;5;124;43m\"\u001b[39;49m\u001b[38;5;124;43m/chat/completions\u001b[39;49m\u001b[38;5;124;43m\"\u001b[39;49m\u001b[43m,\u001b[49m\n\u001b[1;32m    185\u001b[0m \u001b[43m    \u001b[49m\u001b[43mbody\u001b[49m\u001b[38;5;241;43m=\u001b[39;49m\u001b[43mmaybe_transform\u001b[49m\u001b[43m(\u001b[49m\n\u001b[1;32m    186\u001b[0m \u001b[43m        \u001b[49m\u001b[43m{\u001b[49m\n\u001b[1;32m    187\u001b[0m \u001b[43m            \u001b[49m\u001b[38;5;124;43m\"\u001b[39;49m\u001b[38;5;124;43mmessages\u001b[39;49m\u001b[38;5;124;43m\"\u001b[39;49m\u001b[43m:\u001b[49m\u001b[43m \u001b[49m\u001b[43mmessages\u001b[49m\u001b[43m,\u001b[49m\n\u001b[1;32m    188\u001b[0m \u001b[43m            \u001b[49m\u001b[38;5;124;43m\"\u001b[39;49m\u001b[38;5;124;43mmodel\u001b[39;49m\u001b[38;5;124;43m\"\u001b[39;49m\u001b[43m:\u001b[49m\u001b[43m \u001b[49m\u001b[43mmodel\u001b[49m\u001b[43m,\u001b[49m\n\u001b[1;32m    189\u001b[0m \u001b[43m            \u001b[49m\u001b[38;5;124;43m\"\u001b[39;49m\u001b[38;5;124;43maudio\u001b[39;49m\u001b[38;5;124;43m\"\u001b[39;49m\u001b[43m:\u001b[49m\u001b[43m \u001b[49m\u001b[43maudio\u001b[49m\u001b[43m,\u001b[49m\n\u001b[1;32m    190\u001b[0m \u001b[43m            \u001b[49m\u001b[38;5;124;43m\"\u001b[39;49m\u001b[38;5;124;43mfrequency_penalty\u001b[39;49m\u001b[38;5;124;43m\"\u001b[39;49m\u001b[43m:\u001b[49m\u001b[43m \u001b[49m\u001b[43mfrequency_penalty\u001b[49m\u001b[43m,\u001b[49m\n\u001b[1;32m    191\u001b[0m \u001b[43m            \u001b[49m\u001b[38;5;124;43m\"\u001b[39;49m\u001b[38;5;124;43mfunction_call\u001b[39;49m\u001b[38;5;124;43m\"\u001b[39;49m\u001b[43m:\u001b[49m\u001b[43m \u001b[49m\u001b[43mfunction_call\u001b[49m\u001b[43m,\u001b[49m\n\u001b[1;32m    192\u001b[0m \u001b[43m            \u001b[49m\u001b[38;5;124;43m\"\u001b[39;49m\u001b[38;5;124;43mfunctions\u001b[39;49m\u001b[38;5;124;43m\"\u001b[39;49m\u001b[43m:\u001b[49m\u001b[43m \u001b[49m\u001b[43mfunctions\u001b[49m\u001b[43m,\u001b[49m\n\u001b[1;32m    193\u001b[0m \u001b[43m            \u001b[49m\u001b[38;5;124;43m\"\u001b[39;49m\u001b[38;5;124;43mlogit_bias\u001b[39;49m\u001b[38;5;124;43m\"\u001b[39;49m\u001b[43m:\u001b[49m\u001b[43m \u001b[49m\u001b[43mlogit_bias\u001b[49m\u001b[43m,\u001b[49m\n\u001b[1;32m    194\u001b[0m \u001b[43m            \u001b[49m\u001b[38;5;124;43m\"\u001b[39;49m\u001b[38;5;124;43mlogprobs\u001b[39;49m\u001b[38;5;124;43m\"\u001b[39;49m\u001b[43m:\u001b[49m\u001b[43m \u001b[49m\u001b[43mlogprobs\u001b[49m\u001b[43m,\u001b[49m\n\u001b[1;32m    195\u001b[0m \u001b[43m            \u001b[49m\u001b[38;5;124;43m\"\u001b[39;49m\u001b[38;5;124;43mmax_completion_tokens\u001b[39;49m\u001b[38;5;124;43m\"\u001b[39;49m\u001b[43m:\u001b[49m\u001b[43m \u001b[49m\u001b[43mmax_completion_tokens\u001b[49m\u001b[43m,\u001b[49m\n\u001b[1;32m    196\u001b[0m \u001b[43m            \u001b[49m\u001b[38;5;124;43m\"\u001b[39;49m\u001b[38;5;124;43mmax_tokens\u001b[39;49m\u001b[38;5;124;43m\"\u001b[39;49m\u001b[43m:\u001b[49m\u001b[43m \u001b[49m\u001b[43mmax_tokens\u001b[49m\u001b[43m,\u001b[49m\n\u001b[1;32m    197\u001b[0m \u001b[43m            \u001b[49m\u001b[38;5;124;43m\"\u001b[39;49m\u001b[38;5;124;43mmetadata\u001b[39;49m\u001b[38;5;124;43m\"\u001b[39;49m\u001b[43m:\u001b[49m\u001b[43m \u001b[49m\u001b[43mmetadata\u001b[49m\u001b[43m,\u001b[49m\n\u001b[1;32m    198\u001b[0m \u001b[43m            \u001b[49m\u001b[38;5;124;43m\"\u001b[39;49m\u001b[38;5;124;43mmodalities\u001b[39;49m\u001b[38;5;124;43m\"\u001b[39;49m\u001b[43m:\u001b[49m\u001b[43m \u001b[49m\u001b[43mmodalities\u001b[49m\u001b[43m,\u001b[49m\n\u001b[1;32m    199\u001b[0m \u001b[43m            \u001b[49m\u001b[38;5;124;43m\"\u001b[39;49m\u001b[38;5;124;43mn\u001b[39;49m\u001b[38;5;124;43m\"\u001b[39;49m\u001b[43m:\u001b[49m\u001b[43m \u001b[49m\u001b[43mn\u001b[49m\u001b[43m,\u001b[49m\n\u001b[1;32m    200\u001b[0m \u001b[43m            \u001b[49m\u001b[38;5;124;43m\"\u001b[39;49m\u001b[38;5;124;43mparallel_tool_calls\u001b[39;49m\u001b[38;5;124;43m\"\u001b[39;49m\u001b[43m:\u001b[49m\u001b[43m \u001b[49m\u001b[43mparallel_tool_calls\u001b[49m\u001b[43m,\u001b[49m\n\u001b[1;32m    201\u001b[0m \u001b[43m            \u001b[49m\u001b[38;5;124;43m\"\u001b[39;49m\u001b[38;5;124;43mprediction\u001b[39;49m\u001b[38;5;124;43m\"\u001b[39;49m\u001b[43m:\u001b[49m\u001b[43m \u001b[49m\u001b[43mprediction\u001b[49m\u001b[43m,\u001b[49m\n\u001b[1;32m    202\u001b[0m \u001b[43m            \u001b[49m\u001b[38;5;124;43m\"\u001b[39;49m\u001b[38;5;124;43mpresence_penalty\u001b[39;49m\u001b[38;5;124;43m\"\u001b[39;49m\u001b[43m:\u001b[49m\u001b[43m \u001b[49m\u001b[43mpresence_penalty\u001b[49m\u001b[43m,\u001b[49m\n\u001b[1;32m    203\u001b[0m \u001b[43m            \u001b[49m\u001b[38;5;124;43m\"\u001b[39;49m\u001b[38;5;124;43mprompt_cache_key\u001b[39;49m\u001b[38;5;124;43m\"\u001b[39;49m\u001b[43m:\u001b[49m\u001b[43m \u001b[49m\u001b[43mprompt_cache_key\u001b[49m\u001b[43m,\u001b[49m\n\u001b[1;32m    204\u001b[0m \u001b[43m            \u001b[49m\u001b[38;5;124;43m\"\u001b[39;49m\u001b[38;5;124;43mreasoning_effort\u001b[39;49m\u001b[38;5;124;43m\"\u001b[39;49m\u001b[43m:\u001b[49m\u001b[43m \u001b[49m\u001b[43mreasoning_effort\u001b[49m\u001b[43m,\u001b[49m\n\u001b[1;32m    205\u001b[0m \u001b[43m            \u001b[49m\u001b[38;5;124;43m\"\u001b[39;49m\u001b[38;5;124;43mresponse_format\u001b[39;49m\u001b[38;5;124;43m\"\u001b[39;49m\u001b[43m:\u001b[49m\u001b[43m \u001b[49m\u001b[43m_type_to_response_format\u001b[49m\u001b[43m(\u001b[49m\u001b[43mresponse_format\u001b[49m\u001b[43m)\u001b[49m\u001b[43m,\u001b[49m\n\u001b[1;32m    206\u001b[0m \u001b[43m            \u001b[49m\u001b[38;5;124;43m\"\u001b[39;49m\u001b[38;5;124;43msafety_identifier\u001b[39;49m\u001b[38;5;124;43m\"\u001b[39;49m\u001b[43m:\u001b[49m\u001b[43m \u001b[49m\u001b[43msafety_identifier\u001b[49m\u001b[43m,\u001b[49m\n\u001b[1;32m    207\u001b[0m \u001b[43m            \u001b[49m\u001b[38;5;124;43m\"\u001b[39;49m\u001b[38;5;124;43mseed\u001b[39;49m\u001b[38;5;124;43m\"\u001b[39;49m\u001b[43m:\u001b[49m\u001b[43m \u001b[49m\u001b[43mseed\u001b[49m\u001b[43m,\u001b[49m\n\u001b[1;32m    208\u001b[0m \u001b[43m            \u001b[49m\u001b[38;5;124;43m\"\u001b[39;49m\u001b[38;5;124;43mservice_tier\u001b[39;49m\u001b[38;5;124;43m\"\u001b[39;49m\u001b[43m:\u001b[49m\u001b[43m \u001b[49m\u001b[43mservice_tier\u001b[49m\u001b[43m,\u001b[49m\n\u001b[1;32m    209\u001b[0m \u001b[43m            \u001b[49m\u001b[38;5;124;43m\"\u001b[39;49m\u001b[38;5;124;43mstop\u001b[39;49m\u001b[38;5;124;43m\"\u001b[39;49m\u001b[43m:\u001b[49m\u001b[43m \u001b[49m\u001b[43mstop\u001b[49m\u001b[43m,\u001b[49m\n\u001b[1;32m    210\u001b[0m \u001b[43m            \u001b[49m\u001b[38;5;124;43m\"\u001b[39;49m\u001b[38;5;124;43mstore\u001b[39;49m\u001b[38;5;124;43m\"\u001b[39;49m\u001b[43m:\u001b[49m\u001b[43m \u001b[49m\u001b[43mstore\u001b[49m\u001b[43m,\u001b[49m\n\u001b[1;32m    211\u001b[0m \u001b[43m            \u001b[49m\u001b[38;5;124;43m\"\u001b[39;49m\u001b[38;5;124;43mstream\u001b[39;49m\u001b[38;5;124;43m\"\u001b[39;49m\u001b[43m:\u001b[49m\u001b[43m \u001b[49m\u001b[38;5;28;43;01mFalse\u001b[39;49;00m\u001b[43m,\u001b[49m\n\u001b[1;32m    212\u001b[0m \u001b[43m            \u001b[49m\u001b[38;5;124;43m\"\u001b[39;49m\u001b[38;5;124;43mstream_options\u001b[39;49m\u001b[38;5;124;43m\"\u001b[39;49m\u001b[43m:\u001b[49m\u001b[43m \u001b[49m\u001b[43mstream_options\u001b[49m\u001b[43m,\u001b[49m\n\u001b[1;32m    213\u001b[0m \u001b[43m            \u001b[49m\u001b[38;5;124;43m\"\u001b[39;49m\u001b[38;5;124;43mtemperature\u001b[39;49m\u001b[38;5;124;43m\"\u001b[39;49m\u001b[43m:\u001b[49m\u001b[43m \u001b[49m\u001b[43mtemperature\u001b[49m\u001b[43m,\u001b[49m\n\u001b[1;32m    214\u001b[0m \u001b[43m            \u001b[49m\u001b[38;5;124;43m\"\u001b[39;49m\u001b[38;5;124;43mtool_choice\u001b[39;49m\u001b[38;5;124;43m\"\u001b[39;49m\u001b[43m:\u001b[49m\u001b[43m \u001b[49m\u001b[43mtool_choice\u001b[49m\u001b[43m,\u001b[49m\n\u001b[1;32m    215\u001b[0m \u001b[43m            \u001b[49m\u001b[38;5;124;43m\"\u001b[39;49m\u001b[38;5;124;43mtools\u001b[39;49m\u001b[38;5;124;43m\"\u001b[39;49m\u001b[43m:\u001b[49m\u001b[43m \u001b[49m\u001b[43mtools\u001b[49m\u001b[43m,\u001b[49m\n\u001b[1;32m    216\u001b[0m \u001b[43m            \u001b[49m\u001b[38;5;124;43m\"\u001b[39;49m\u001b[38;5;124;43mtop_logprobs\u001b[39;49m\u001b[38;5;124;43m\"\u001b[39;49m\u001b[43m:\u001b[49m\u001b[43m \u001b[49m\u001b[43mtop_logprobs\u001b[49m\u001b[43m,\u001b[49m\n\u001b[1;32m    217\u001b[0m \u001b[43m            \u001b[49m\u001b[38;5;124;43m\"\u001b[39;49m\u001b[38;5;124;43mtop_p\u001b[39;49m\u001b[38;5;124;43m\"\u001b[39;49m\u001b[43m:\u001b[49m\u001b[43m \u001b[49m\u001b[43mtop_p\u001b[49m\u001b[43m,\u001b[49m\n\u001b[1;32m    218\u001b[0m \u001b[43m            \u001b[49m\u001b[38;5;124;43m\"\u001b[39;49m\u001b[38;5;124;43muser\u001b[39;49m\u001b[38;5;124;43m\"\u001b[39;49m\u001b[43m:\u001b[49m\u001b[43m \u001b[49m\u001b[43muser\u001b[49m\u001b[43m,\u001b[49m\n\u001b[1;32m    219\u001b[0m \u001b[43m            \u001b[49m\u001b[38;5;124;43m\"\u001b[39;49m\u001b[38;5;124;43mverbosity\u001b[39;49m\u001b[38;5;124;43m\"\u001b[39;49m\u001b[43m:\u001b[49m\u001b[43m \u001b[49m\u001b[43mverbosity\u001b[49m\u001b[43m,\u001b[49m\n\u001b[1;32m    220\u001b[0m \u001b[43m            \u001b[49m\u001b[38;5;124;43m\"\u001b[39;49m\u001b[38;5;124;43mweb_search_options\u001b[39;49m\u001b[38;5;124;43m\"\u001b[39;49m\u001b[43m:\u001b[49m\u001b[43m \u001b[49m\u001b[43mweb_search_options\u001b[49m\u001b[43m,\u001b[49m\n\u001b[1;32m    221\u001b[0m \u001b[43m        \u001b[49m\u001b[43m}\u001b[49m\u001b[43m,\u001b[49m\n\u001b[1;32m    222\u001b[0m \u001b[43m        \u001b[49m\u001b[43mcompletion_create_params\u001b[49m\u001b[38;5;241;43m.\u001b[39;49m\u001b[43mCompletionCreateParams\u001b[49m\u001b[43m,\u001b[49m\n\u001b[1;32m    223\u001b[0m \u001b[43m    \u001b[49m\u001b[43m)\u001b[49m\u001b[43m,\u001b[49m\n\u001b[1;32m    224\u001b[0m \u001b[43m    \u001b[49m\u001b[43moptions\u001b[49m\u001b[38;5;241;43m=\u001b[39;49m\u001b[43mmake_request_options\u001b[49m\u001b[43m(\u001b[49m\n\u001b[1;32m    225\u001b[0m \u001b[43m        \u001b[49m\u001b[43mextra_headers\u001b[49m\u001b[38;5;241;43m=\u001b[39;49m\u001b[43mextra_headers\u001b[49m\u001b[43m,\u001b[49m\n\u001b[1;32m    226\u001b[0m \u001b[43m        \u001b[49m\u001b[43mextra_query\u001b[49m\u001b[38;5;241;43m=\u001b[39;49m\u001b[43mextra_query\u001b[49m\u001b[43m,\u001b[49m\n\u001b[1;32m    227\u001b[0m \u001b[43m        \u001b[49m\u001b[43mextra_body\u001b[49m\u001b[38;5;241;43m=\u001b[39;49m\u001b[43mextra_body\u001b[49m\u001b[43m,\u001b[49m\n\u001b[1;32m    228\u001b[0m \u001b[43m        \u001b[49m\u001b[43mtimeout\u001b[49m\u001b[38;5;241;43m=\u001b[39;49m\u001b[43mtimeout\u001b[49m\u001b[43m,\u001b[49m\n\u001b[1;32m    229\u001b[0m \u001b[43m        \u001b[49m\u001b[43mpost_parser\u001b[49m\u001b[38;5;241;43m=\u001b[39;49m\u001b[43mparser\u001b[49m\u001b[43m,\u001b[49m\n\u001b[1;32m    230\u001b[0m \u001b[43m    \u001b[49m\u001b[43m)\u001b[49m\u001b[43m,\u001b[49m\n\u001b[1;32m    231\u001b[0m \u001b[43m    \u001b[49m\u001b[38;5;66;43;03m# we turn the `ChatCompletion` instance into a `ParsedChatCompletion`\u001b[39;49;00m\n\u001b[1;32m    232\u001b[0m \u001b[43m    \u001b[49m\u001b[38;5;66;43;03m# in the `parser` function above\u001b[39;49;00m\n\u001b[1;32m    233\u001b[0m \u001b[43m    \u001b[49m\u001b[43mcast_to\u001b[49m\u001b[38;5;241;43m=\u001b[39;49m\u001b[43mcast\u001b[49m\u001b[43m(\u001b[49m\u001b[43mType\u001b[49m\u001b[43m[\u001b[49m\u001b[43mParsedChatCompletion\u001b[49m\u001b[43m[\u001b[49m\u001b[43mResponseFormatT\u001b[49m\u001b[43m]\u001b[49m\u001b[43m]\u001b[49m\u001b[43m,\u001b[49m\u001b[43m \u001b[49m\u001b[43mChatCompletion\u001b[49m\u001b[43m)\u001b[49m\u001b[43m,\u001b[49m\n\u001b[1;32m    234\u001b[0m \u001b[43m    \u001b[49m\u001b[43mstream\u001b[49m\u001b[38;5;241;43m=\u001b[39;49m\u001b[38;5;28;43;01mFalse\u001b[39;49;00m\u001b[43m,\u001b[49m\n\u001b[1;32m    235\u001b[0m \u001b[43m\u001b[49m\u001b[43m)\u001b[49m\n",
      "File \u001b[0;32m/opt/homebrew/lib/python3.9/site-packages/openai/_base_client.py:1259\u001b[0m, in \u001b[0;36mSyncAPIClient.post\u001b[0;34m(self, path, cast_to, body, options, files, stream, stream_cls)\u001b[0m\n\u001b[1;32m   1245\u001b[0m \u001b[38;5;28;01mdef\u001b[39;00m\u001b[38;5;250m \u001b[39m\u001b[38;5;21mpost\u001b[39m(\n\u001b[1;32m   1246\u001b[0m     \u001b[38;5;28mself\u001b[39m,\n\u001b[1;32m   1247\u001b[0m     path: \u001b[38;5;28mstr\u001b[39m,\n\u001b[0;32m   (...)\u001b[0m\n\u001b[1;32m   1254\u001b[0m     stream_cls: \u001b[38;5;28mtype\u001b[39m[_StreamT] \u001b[38;5;241m|\u001b[39m \u001b[38;5;28;01mNone\u001b[39;00m \u001b[38;5;241m=\u001b[39m \u001b[38;5;28;01mNone\u001b[39;00m,\n\u001b[1;32m   1255\u001b[0m ) \u001b[38;5;241m-\u001b[39m\u001b[38;5;241m>\u001b[39m ResponseT \u001b[38;5;241m|\u001b[39m _StreamT:\n\u001b[1;32m   1256\u001b[0m     opts \u001b[38;5;241m=\u001b[39m FinalRequestOptions\u001b[38;5;241m.\u001b[39mconstruct(\n\u001b[1;32m   1257\u001b[0m         method\u001b[38;5;241m=\u001b[39m\u001b[38;5;124m\"\u001b[39m\u001b[38;5;124mpost\u001b[39m\u001b[38;5;124m\"\u001b[39m, url\u001b[38;5;241m=\u001b[39mpath, json_data\u001b[38;5;241m=\u001b[39mbody, files\u001b[38;5;241m=\u001b[39mto_httpx_files(files), \u001b[38;5;241m*\u001b[39m\u001b[38;5;241m*\u001b[39moptions\n\u001b[1;32m   1258\u001b[0m     )\n\u001b[0;32m-> 1259\u001b[0m     \u001b[38;5;28;01mreturn\u001b[39;00m cast(ResponseT, \u001b[38;5;28;43mself\u001b[39;49m\u001b[38;5;241;43m.\u001b[39;49m\u001b[43mrequest\u001b[49m\u001b[43m(\u001b[49m\u001b[43mcast_to\u001b[49m\u001b[43m,\u001b[49m\u001b[43m \u001b[49m\u001b[43mopts\u001b[49m\u001b[43m,\u001b[49m\u001b[43m \u001b[49m\u001b[43mstream\u001b[49m\u001b[38;5;241;43m=\u001b[39;49m\u001b[43mstream\u001b[49m\u001b[43m,\u001b[49m\u001b[43m \u001b[49m\u001b[43mstream_cls\u001b[49m\u001b[38;5;241;43m=\u001b[39;49m\u001b[43mstream_cls\u001b[49m\u001b[43m)\u001b[49m)\n",
      "File \u001b[0;32m/opt/homebrew/lib/python3.9/site-packages/openai/_base_client.py:982\u001b[0m, in \u001b[0;36mSyncAPIClient.request\u001b[0;34m(self, cast_to, options, stream, stream_cls)\u001b[0m\n\u001b[1;32m    980\u001b[0m response \u001b[38;5;241m=\u001b[39m \u001b[38;5;28;01mNone\u001b[39;00m\n\u001b[1;32m    981\u001b[0m \u001b[38;5;28;01mtry\u001b[39;00m:\n\u001b[0;32m--> 982\u001b[0m     response \u001b[38;5;241m=\u001b[39m \u001b[38;5;28;43mself\u001b[39;49m\u001b[38;5;241;43m.\u001b[39;49m\u001b[43m_client\u001b[49m\u001b[38;5;241;43m.\u001b[39;49m\u001b[43msend\u001b[49m\u001b[43m(\u001b[49m\n\u001b[1;32m    983\u001b[0m \u001b[43m        \u001b[49m\u001b[43mrequest\u001b[49m\u001b[43m,\u001b[49m\n\u001b[1;32m    984\u001b[0m \u001b[43m        \u001b[49m\u001b[43mstream\u001b[49m\u001b[38;5;241;43m=\u001b[39;49m\u001b[43mstream\u001b[49m\u001b[43m \u001b[49m\u001b[38;5;129;43;01mor\u001b[39;49;00m\u001b[43m \u001b[49m\u001b[38;5;28;43mself\u001b[39;49m\u001b[38;5;241;43m.\u001b[39;49m\u001b[43m_should_stream_response_body\u001b[49m\u001b[43m(\u001b[49m\u001b[43mrequest\u001b[49m\u001b[38;5;241;43m=\u001b[39;49m\u001b[43mrequest\u001b[49m\u001b[43m)\u001b[49m\u001b[43m,\u001b[49m\n\u001b[1;32m    985\u001b[0m \u001b[43m        \u001b[49m\u001b[38;5;241;43m*\u001b[39;49m\u001b[38;5;241;43m*\u001b[39;49m\u001b[43mkwargs\u001b[49m\u001b[43m,\u001b[49m\n\u001b[1;32m    986\u001b[0m \u001b[43m    \u001b[49m\u001b[43m)\u001b[49m\n\u001b[1;32m    987\u001b[0m \u001b[38;5;28;01mexcept\u001b[39;00m httpx\u001b[38;5;241m.\u001b[39mTimeoutException \u001b[38;5;28;01mas\u001b[39;00m err:\n\u001b[1;32m    988\u001b[0m     log\u001b[38;5;241m.\u001b[39mdebug(\u001b[38;5;124m\"\u001b[39m\u001b[38;5;124mEncountered httpx.TimeoutException\u001b[39m\u001b[38;5;124m\"\u001b[39m, exc_info\u001b[38;5;241m=\u001b[39m\u001b[38;5;28;01mTrue\u001b[39;00m)\n",
      "File \u001b[0;32m/opt/homebrew/lib/python3.9/site-packages/httpx/_client.py:914\u001b[0m, in \u001b[0;36mClient.send\u001b[0;34m(self, request, stream, auth, follow_redirects)\u001b[0m\n\u001b[1;32m    910\u001b[0m \u001b[38;5;28mself\u001b[39m\u001b[38;5;241m.\u001b[39m_set_timeout(request)\n\u001b[1;32m    912\u001b[0m auth \u001b[38;5;241m=\u001b[39m \u001b[38;5;28mself\u001b[39m\u001b[38;5;241m.\u001b[39m_build_request_auth(request, auth)\n\u001b[0;32m--> 914\u001b[0m response \u001b[38;5;241m=\u001b[39m \u001b[38;5;28;43mself\u001b[39;49m\u001b[38;5;241;43m.\u001b[39;49m\u001b[43m_send_handling_auth\u001b[49m\u001b[43m(\u001b[49m\n\u001b[1;32m    915\u001b[0m \u001b[43m    \u001b[49m\u001b[43mrequest\u001b[49m\u001b[43m,\u001b[49m\n\u001b[1;32m    916\u001b[0m \u001b[43m    \u001b[49m\u001b[43mauth\u001b[49m\u001b[38;5;241;43m=\u001b[39;49m\u001b[43mauth\u001b[49m\u001b[43m,\u001b[49m\n\u001b[1;32m    917\u001b[0m \u001b[43m    \u001b[49m\u001b[43mfollow_redirects\u001b[49m\u001b[38;5;241;43m=\u001b[39;49m\u001b[43mfollow_redirects\u001b[49m\u001b[43m,\u001b[49m\n\u001b[1;32m    918\u001b[0m \u001b[43m    \u001b[49m\u001b[43mhistory\u001b[49m\u001b[38;5;241;43m=\u001b[39;49m\u001b[43m[\u001b[49m\u001b[43m]\u001b[49m\u001b[43m,\u001b[49m\n\u001b[1;32m    919\u001b[0m \u001b[43m\u001b[49m\u001b[43m)\u001b[49m\n\u001b[1;32m    920\u001b[0m \u001b[38;5;28;01mtry\u001b[39;00m:\n\u001b[1;32m    921\u001b[0m     \u001b[38;5;28;01mif\u001b[39;00m \u001b[38;5;129;01mnot\u001b[39;00m stream:\n",
      "File \u001b[0;32m/opt/homebrew/lib/python3.9/site-packages/httpx/_client.py:942\u001b[0m, in \u001b[0;36mClient._send_handling_auth\u001b[0;34m(self, request, auth, follow_redirects, history)\u001b[0m\n\u001b[1;32m    939\u001b[0m request \u001b[38;5;241m=\u001b[39m \u001b[38;5;28mnext\u001b[39m(auth_flow)\n\u001b[1;32m    941\u001b[0m \u001b[38;5;28;01mwhile\u001b[39;00m \u001b[38;5;28;01mTrue\u001b[39;00m:\n\u001b[0;32m--> 942\u001b[0m     response \u001b[38;5;241m=\u001b[39m \u001b[38;5;28;43mself\u001b[39;49m\u001b[38;5;241;43m.\u001b[39;49m\u001b[43m_send_handling_redirects\u001b[49m\u001b[43m(\u001b[49m\n\u001b[1;32m    943\u001b[0m \u001b[43m        \u001b[49m\u001b[43mrequest\u001b[49m\u001b[43m,\u001b[49m\n\u001b[1;32m    944\u001b[0m \u001b[43m        \u001b[49m\u001b[43mfollow_redirects\u001b[49m\u001b[38;5;241;43m=\u001b[39;49m\u001b[43mfollow_redirects\u001b[49m\u001b[43m,\u001b[49m\n\u001b[1;32m    945\u001b[0m \u001b[43m        \u001b[49m\u001b[43mhistory\u001b[49m\u001b[38;5;241;43m=\u001b[39;49m\u001b[43mhistory\u001b[49m\u001b[43m,\u001b[49m\n\u001b[1;32m    946\u001b[0m \u001b[43m    \u001b[49m\u001b[43m)\u001b[49m\n\u001b[1;32m    947\u001b[0m     \u001b[38;5;28;01mtry\u001b[39;00m:\n\u001b[1;32m    948\u001b[0m         \u001b[38;5;28;01mtry\u001b[39;00m:\n",
      "File \u001b[0;32m/opt/homebrew/lib/python3.9/site-packages/httpx/_client.py:979\u001b[0m, in \u001b[0;36mClient._send_handling_redirects\u001b[0;34m(self, request, follow_redirects, history)\u001b[0m\n\u001b[1;32m    976\u001b[0m \u001b[38;5;28;01mfor\u001b[39;00m hook \u001b[38;5;129;01min\u001b[39;00m \u001b[38;5;28mself\u001b[39m\u001b[38;5;241m.\u001b[39m_event_hooks[\u001b[38;5;124m\"\u001b[39m\u001b[38;5;124mrequest\u001b[39m\u001b[38;5;124m\"\u001b[39m]:\n\u001b[1;32m    977\u001b[0m     hook(request)\n\u001b[0;32m--> 979\u001b[0m response \u001b[38;5;241m=\u001b[39m \u001b[38;5;28;43mself\u001b[39;49m\u001b[38;5;241;43m.\u001b[39;49m\u001b[43m_send_single_request\u001b[49m\u001b[43m(\u001b[49m\u001b[43mrequest\u001b[49m\u001b[43m)\u001b[49m\n\u001b[1;32m    980\u001b[0m \u001b[38;5;28;01mtry\u001b[39;00m:\n\u001b[1;32m    981\u001b[0m     \u001b[38;5;28;01mfor\u001b[39;00m hook \u001b[38;5;129;01min\u001b[39;00m \u001b[38;5;28mself\u001b[39m\u001b[38;5;241m.\u001b[39m_event_hooks[\u001b[38;5;124m\"\u001b[39m\u001b[38;5;124mresponse\u001b[39m\u001b[38;5;124m\"\u001b[39m]:\n",
      "File \u001b[0;32m/opt/homebrew/lib/python3.9/site-packages/httpx/_client.py:1014\u001b[0m, in \u001b[0;36mClient._send_single_request\u001b[0;34m(self, request)\u001b[0m\n\u001b[1;32m   1009\u001b[0m     \u001b[38;5;28;01mraise\u001b[39;00m \u001b[38;5;167;01mRuntimeError\u001b[39;00m(\n\u001b[1;32m   1010\u001b[0m         \u001b[38;5;124m\"\u001b[39m\u001b[38;5;124mAttempted to send an async request with a sync Client instance.\u001b[39m\u001b[38;5;124m\"\u001b[39m\n\u001b[1;32m   1011\u001b[0m     )\n\u001b[1;32m   1013\u001b[0m \u001b[38;5;28;01mwith\u001b[39;00m request_context(request\u001b[38;5;241m=\u001b[39mrequest):\n\u001b[0;32m-> 1014\u001b[0m     response \u001b[38;5;241m=\u001b[39m \u001b[43mtransport\u001b[49m\u001b[38;5;241;43m.\u001b[39;49m\u001b[43mhandle_request\u001b[49m\u001b[43m(\u001b[49m\u001b[43mrequest\u001b[49m\u001b[43m)\u001b[49m\n\u001b[1;32m   1016\u001b[0m \u001b[38;5;28;01massert\u001b[39;00m \u001b[38;5;28misinstance\u001b[39m(response\u001b[38;5;241m.\u001b[39mstream, SyncByteStream)\n\u001b[1;32m   1018\u001b[0m response\u001b[38;5;241m.\u001b[39mrequest \u001b[38;5;241m=\u001b[39m request\n",
      "File \u001b[0;32m/opt/homebrew/lib/python3.9/site-packages/httpx/_transports/default.py:250\u001b[0m, in \u001b[0;36mHTTPTransport.handle_request\u001b[0;34m(self, request)\u001b[0m\n\u001b[1;32m    237\u001b[0m req \u001b[38;5;241m=\u001b[39m httpcore\u001b[38;5;241m.\u001b[39mRequest(\n\u001b[1;32m    238\u001b[0m     method\u001b[38;5;241m=\u001b[39mrequest\u001b[38;5;241m.\u001b[39mmethod,\n\u001b[1;32m    239\u001b[0m     url\u001b[38;5;241m=\u001b[39mhttpcore\u001b[38;5;241m.\u001b[39mURL(\n\u001b[0;32m   (...)\u001b[0m\n\u001b[1;32m    247\u001b[0m     extensions\u001b[38;5;241m=\u001b[39mrequest\u001b[38;5;241m.\u001b[39mextensions,\n\u001b[1;32m    248\u001b[0m )\n\u001b[1;32m    249\u001b[0m \u001b[38;5;28;01mwith\u001b[39;00m map_httpcore_exceptions():\n\u001b[0;32m--> 250\u001b[0m     resp \u001b[38;5;241m=\u001b[39m \u001b[38;5;28;43mself\u001b[39;49m\u001b[38;5;241;43m.\u001b[39;49m\u001b[43m_pool\u001b[49m\u001b[38;5;241;43m.\u001b[39;49m\u001b[43mhandle_request\u001b[49m\u001b[43m(\u001b[49m\u001b[43mreq\u001b[49m\u001b[43m)\u001b[49m\n\u001b[1;32m    252\u001b[0m \u001b[38;5;28;01massert\u001b[39;00m \u001b[38;5;28misinstance\u001b[39m(resp\u001b[38;5;241m.\u001b[39mstream, typing\u001b[38;5;241m.\u001b[39mIterable)\n\u001b[1;32m    254\u001b[0m \u001b[38;5;28;01mreturn\u001b[39;00m Response(\n\u001b[1;32m    255\u001b[0m     status_code\u001b[38;5;241m=\u001b[39mresp\u001b[38;5;241m.\u001b[39mstatus,\n\u001b[1;32m    256\u001b[0m     headers\u001b[38;5;241m=\u001b[39mresp\u001b[38;5;241m.\u001b[39mheaders,\n\u001b[1;32m    257\u001b[0m     stream\u001b[38;5;241m=\u001b[39mResponseStream(resp\u001b[38;5;241m.\u001b[39mstream),\n\u001b[1;32m    258\u001b[0m     extensions\u001b[38;5;241m=\u001b[39mresp\u001b[38;5;241m.\u001b[39mextensions,\n\u001b[1;32m    259\u001b[0m )\n",
      "File \u001b[0;32m/opt/homebrew/lib/python3.9/site-packages/httpcore/_sync/connection_pool.py:256\u001b[0m, in \u001b[0;36mConnectionPool.handle_request\u001b[0;34m(self, request)\u001b[0m\n\u001b[1;32m    253\u001b[0m         closing \u001b[38;5;241m=\u001b[39m \u001b[38;5;28mself\u001b[39m\u001b[38;5;241m.\u001b[39m_assign_requests_to_connections()\n\u001b[1;32m    255\u001b[0m     \u001b[38;5;28mself\u001b[39m\u001b[38;5;241m.\u001b[39m_close_connections(closing)\n\u001b[0;32m--> 256\u001b[0m     \u001b[38;5;28;01mraise\u001b[39;00m exc \u001b[38;5;28;01mfrom\u001b[39;00m\u001b[38;5;250m \u001b[39m\u001b[38;5;28;01mNone\u001b[39;00m\n\u001b[1;32m    258\u001b[0m \u001b[38;5;66;03m# Return the response. Note that in this case we still have to manage\u001b[39;00m\n\u001b[1;32m    259\u001b[0m \u001b[38;5;66;03m# the point at which the response is closed.\u001b[39;00m\n\u001b[1;32m    260\u001b[0m \u001b[38;5;28;01massert\u001b[39;00m \u001b[38;5;28misinstance\u001b[39m(response\u001b[38;5;241m.\u001b[39mstream, typing\u001b[38;5;241m.\u001b[39mIterable)\n",
      "File \u001b[0;32m/opt/homebrew/lib/python3.9/site-packages/httpcore/_sync/connection_pool.py:236\u001b[0m, in \u001b[0;36mConnectionPool.handle_request\u001b[0;34m(self, request)\u001b[0m\n\u001b[1;32m    232\u001b[0m connection \u001b[38;5;241m=\u001b[39m pool_request\u001b[38;5;241m.\u001b[39mwait_for_connection(timeout\u001b[38;5;241m=\u001b[39mtimeout)\n\u001b[1;32m    234\u001b[0m \u001b[38;5;28;01mtry\u001b[39;00m:\n\u001b[1;32m    235\u001b[0m     \u001b[38;5;66;03m# Send the request on the assigned connection.\u001b[39;00m\n\u001b[0;32m--> 236\u001b[0m     response \u001b[38;5;241m=\u001b[39m \u001b[43mconnection\u001b[49m\u001b[38;5;241;43m.\u001b[39;49m\u001b[43mhandle_request\u001b[49m\u001b[43m(\u001b[49m\n\u001b[1;32m    237\u001b[0m \u001b[43m        \u001b[49m\u001b[43mpool_request\u001b[49m\u001b[38;5;241;43m.\u001b[39;49m\u001b[43mrequest\u001b[49m\n\u001b[1;32m    238\u001b[0m \u001b[43m    \u001b[49m\u001b[43m)\u001b[49m\n\u001b[1;32m    239\u001b[0m \u001b[38;5;28;01mexcept\u001b[39;00m ConnectionNotAvailable:\n\u001b[1;32m    240\u001b[0m     \u001b[38;5;66;03m# In some cases a connection may initially be available to\u001b[39;00m\n\u001b[1;32m    241\u001b[0m     \u001b[38;5;66;03m# handle a request, but then become unavailable.\u001b[39;00m\n\u001b[1;32m    242\u001b[0m     \u001b[38;5;66;03m#\u001b[39;00m\n\u001b[1;32m    243\u001b[0m     \u001b[38;5;66;03m# In this case we clear the connection and try again.\u001b[39;00m\n\u001b[1;32m    244\u001b[0m     pool_request\u001b[38;5;241m.\u001b[39mclear_connection()\n",
      "File \u001b[0;32m/opt/homebrew/lib/python3.9/site-packages/httpcore/_sync/connection.py:103\u001b[0m, in \u001b[0;36mHTTPConnection.handle_request\u001b[0;34m(self, request)\u001b[0m\n\u001b[1;32m    100\u001b[0m     \u001b[38;5;28mself\u001b[39m\u001b[38;5;241m.\u001b[39m_connect_failed \u001b[38;5;241m=\u001b[39m \u001b[38;5;28;01mTrue\u001b[39;00m\n\u001b[1;32m    101\u001b[0m     \u001b[38;5;28;01mraise\u001b[39;00m exc\n\u001b[0;32m--> 103\u001b[0m \u001b[38;5;28;01mreturn\u001b[39;00m \u001b[38;5;28;43mself\u001b[39;49m\u001b[38;5;241;43m.\u001b[39;49m\u001b[43m_connection\u001b[49m\u001b[38;5;241;43m.\u001b[39;49m\u001b[43mhandle_request\u001b[49m\u001b[43m(\u001b[49m\u001b[43mrequest\u001b[49m\u001b[43m)\u001b[49m\n",
      "File \u001b[0;32m/opt/homebrew/lib/python3.9/site-packages/httpcore/_sync/http11.py:136\u001b[0m, in \u001b[0;36mHTTP11Connection.handle_request\u001b[0;34m(self, request)\u001b[0m\n\u001b[1;32m    134\u001b[0m     \u001b[38;5;28;01mwith\u001b[39;00m Trace(\u001b[38;5;124m\"\u001b[39m\u001b[38;5;124mresponse_closed\u001b[39m\u001b[38;5;124m\"\u001b[39m, logger, request) \u001b[38;5;28;01mas\u001b[39;00m trace:\n\u001b[1;32m    135\u001b[0m         \u001b[38;5;28mself\u001b[39m\u001b[38;5;241m.\u001b[39m_response_closed()\n\u001b[0;32m--> 136\u001b[0m \u001b[38;5;28;01mraise\u001b[39;00m exc\n",
      "File \u001b[0;32m/opt/homebrew/lib/python3.9/site-packages/httpcore/_sync/http11.py:106\u001b[0m, in \u001b[0;36mHTTP11Connection.handle_request\u001b[0;34m(self, request)\u001b[0m\n\u001b[1;32m     95\u001b[0m     \u001b[38;5;28;01mpass\u001b[39;00m\n\u001b[1;32m     97\u001b[0m \u001b[38;5;28;01mwith\u001b[39;00m Trace(\n\u001b[1;32m     98\u001b[0m     \u001b[38;5;124m\"\u001b[39m\u001b[38;5;124mreceive_response_headers\u001b[39m\u001b[38;5;124m\"\u001b[39m, logger, request, kwargs\n\u001b[1;32m     99\u001b[0m ) \u001b[38;5;28;01mas\u001b[39;00m trace:\n\u001b[1;32m    100\u001b[0m     (\n\u001b[1;32m    101\u001b[0m         http_version,\n\u001b[1;32m    102\u001b[0m         status,\n\u001b[1;32m    103\u001b[0m         reason_phrase,\n\u001b[1;32m    104\u001b[0m         headers,\n\u001b[1;32m    105\u001b[0m         trailing_data,\n\u001b[0;32m--> 106\u001b[0m     ) \u001b[38;5;241m=\u001b[39m \u001b[38;5;28;43mself\u001b[39;49m\u001b[38;5;241;43m.\u001b[39;49m\u001b[43m_receive_response_headers\u001b[49m\u001b[43m(\u001b[49m\u001b[38;5;241;43m*\u001b[39;49m\u001b[38;5;241;43m*\u001b[39;49m\u001b[43mkwargs\u001b[49m\u001b[43m)\u001b[49m\n\u001b[1;32m    107\u001b[0m     trace\u001b[38;5;241m.\u001b[39mreturn_value \u001b[38;5;241m=\u001b[39m (\n\u001b[1;32m    108\u001b[0m         http_version,\n\u001b[1;32m    109\u001b[0m         status,\n\u001b[1;32m    110\u001b[0m         reason_phrase,\n\u001b[1;32m    111\u001b[0m         headers,\n\u001b[1;32m    112\u001b[0m     )\n\u001b[1;32m    114\u001b[0m network_stream \u001b[38;5;241m=\u001b[39m \u001b[38;5;28mself\u001b[39m\u001b[38;5;241m.\u001b[39m_network_stream\n",
      "File \u001b[0;32m/opt/homebrew/lib/python3.9/site-packages/httpcore/_sync/http11.py:177\u001b[0m, in \u001b[0;36mHTTP11Connection._receive_response_headers\u001b[0;34m(self, request)\u001b[0m\n\u001b[1;32m    174\u001b[0m timeout \u001b[38;5;241m=\u001b[39m timeouts\u001b[38;5;241m.\u001b[39mget(\u001b[38;5;124m\"\u001b[39m\u001b[38;5;124mread\u001b[39m\u001b[38;5;124m\"\u001b[39m, \u001b[38;5;28;01mNone\u001b[39;00m)\n\u001b[1;32m    176\u001b[0m \u001b[38;5;28;01mwhile\u001b[39;00m \u001b[38;5;28;01mTrue\u001b[39;00m:\n\u001b[0;32m--> 177\u001b[0m     event \u001b[38;5;241m=\u001b[39m \u001b[38;5;28;43mself\u001b[39;49m\u001b[38;5;241;43m.\u001b[39;49m\u001b[43m_receive_event\u001b[49m\u001b[43m(\u001b[49m\u001b[43mtimeout\u001b[49m\u001b[38;5;241;43m=\u001b[39;49m\u001b[43mtimeout\u001b[49m\u001b[43m)\u001b[49m\n\u001b[1;32m    178\u001b[0m     \u001b[38;5;28;01mif\u001b[39;00m \u001b[38;5;28misinstance\u001b[39m(event, h11\u001b[38;5;241m.\u001b[39mResponse):\n\u001b[1;32m    179\u001b[0m         \u001b[38;5;28;01mbreak\u001b[39;00m\n",
      "File \u001b[0;32m/opt/homebrew/lib/python3.9/site-packages/httpcore/_sync/http11.py:217\u001b[0m, in \u001b[0;36mHTTP11Connection._receive_event\u001b[0;34m(self, timeout)\u001b[0m\n\u001b[1;32m    214\u001b[0m     event \u001b[38;5;241m=\u001b[39m \u001b[38;5;28mself\u001b[39m\u001b[38;5;241m.\u001b[39m_h11_state\u001b[38;5;241m.\u001b[39mnext_event()\n\u001b[1;32m    216\u001b[0m \u001b[38;5;28;01mif\u001b[39;00m event \u001b[38;5;129;01mis\u001b[39;00m h11\u001b[38;5;241m.\u001b[39mNEED_DATA:\n\u001b[0;32m--> 217\u001b[0m     data \u001b[38;5;241m=\u001b[39m \u001b[38;5;28;43mself\u001b[39;49m\u001b[38;5;241;43m.\u001b[39;49m\u001b[43m_network_stream\u001b[49m\u001b[38;5;241;43m.\u001b[39;49m\u001b[43mread\u001b[49m\u001b[43m(\u001b[49m\n\u001b[1;32m    218\u001b[0m \u001b[43m        \u001b[49m\u001b[38;5;28;43mself\u001b[39;49m\u001b[38;5;241;43m.\u001b[39;49m\u001b[43mREAD_NUM_BYTES\u001b[49m\u001b[43m,\u001b[49m\u001b[43m \u001b[49m\u001b[43mtimeout\u001b[49m\u001b[38;5;241;43m=\u001b[39;49m\u001b[43mtimeout\u001b[49m\n\u001b[1;32m    219\u001b[0m \u001b[43m    \u001b[49m\u001b[43m)\u001b[49m\n\u001b[1;32m    221\u001b[0m     \u001b[38;5;66;03m# If we feed this case through h11 we'll raise an exception like:\u001b[39;00m\n\u001b[1;32m    222\u001b[0m     \u001b[38;5;66;03m#\u001b[39;00m\n\u001b[1;32m    223\u001b[0m     \u001b[38;5;66;03m#     httpcore.RemoteProtocolError: can't handle event type\u001b[39;00m\n\u001b[0;32m   (...)\u001b[0m\n\u001b[1;32m    227\u001b[0m     \u001b[38;5;66;03m# perspective. Instead we handle this case distinctly and treat\u001b[39;00m\n\u001b[1;32m    228\u001b[0m     \u001b[38;5;66;03m# it as a ConnectError.\u001b[39;00m\n\u001b[1;32m    229\u001b[0m     \u001b[38;5;28;01mif\u001b[39;00m data \u001b[38;5;241m==\u001b[39m \u001b[38;5;124mb\u001b[39m\u001b[38;5;124m\"\u001b[39m\u001b[38;5;124m\"\u001b[39m \u001b[38;5;129;01mand\u001b[39;00m \u001b[38;5;28mself\u001b[39m\u001b[38;5;241m.\u001b[39m_h11_state\u001b[38;5;241m.\u001b[39mtheir_state \u001b[38;5;241m==\u001b[39m h11\u001b[38;5;241m.\u001b[39mSEND_RESPONSE:\n",
      "File \u001b[0;32m/opt/homebrew/lib/python3.9/site-packages/httpcore/_backends/sync.py:128\u001b[0m, in \u001b[0;36mSyncStream.read\u001b[0;34m(self, max_bytes, timeout)\u001b[0m\n\u001b[1;32m    126\u001b[0m \u001b[38;5;28;01mwith\u001b[39;00m map_exceptions(exc_map):\n\u001b[1;32m    127\u001b[0m     \u001b[38;5;28mself\u001b[39m\u001b[38;5;241m.\u001b[39m_sock\u001b[38;5;241m.\u001b[39msettimeout(timeout)\n\u001b[0;32m--> 128\u001b[0m     \u001b[38;5;28;01mreturn\u001b[39;00m \u001b[38;5;28;43mself\u001b[39;49m\u001b[38;5;241;43m.\u001b[39;49m\u001b[43m_sock\u001b[49m\u001b[38;5;241;43m.\u001b[39;49m\u001b[43mrecv\u001b[49m\u001b[43m(\u001b[49m\u001b[43mmax_bytes\u001b[49m\u001b[43m)\u001b[49m\n",
      "File \u001b[0;32m/opt/homebrew/Cellar/python@3.9/3.9.23/Frameworks/Python.framework/Versions/3.9/lib/python3.9/ssl.py:1260\u001b[0m, in \u001b[0;36mSSLSocket.recv\u001b[0;34m(self, buflen, flags)\u001b[0m\n\u001b[1;32m   1256\u001b[0m     \u001b[38;5;28;01mif\u001b[39;00m flags \u001b[38;5;241m!=\u001b[39m \u001b[38;5;241m0\u001b[39m:\n\u001b[1;32m   1257\u001b[0m         \u001b[38;5;28;01mraise\u001b[39;00m \u001b[38;5;167;01mValueError\u001b[39;00m(\n\u001b[1;32m   1258\u001b[0m             \u001b[38;5;124m\"\u001b[39m\u001b[38;5;124mnon-zero flags not allowed in calls to recv() on \u001b[39m\u001b[38;5;132;01m%s\u001b[39;00m\u001b[38;5;124m\"\u001b[39m \u001b[38;5;241m%\u001b[39m\n\u001b[1;32m   1259\u001b[0m             \u001b[38;5;28mself\u001b[39m\u001b[38;5;241m.\u001b[39m\u001b[38;5;18m__class__\u001b[39m)\n\u001b[0;32m-> 1260\u001b[0m     \u001b[38;5;28;01mreturn\u001b[39;00m \u001b[38;5;28;43mself\u001b[39;49m\u001b[38;5;241;43m.\u001b[39;49m\u001b[43mread\u001b[49m\u001b[43m(\u001b[49m\u001b[43mbuflen\u001b[49m\u001b[43m)\u001b[49m\n\u001b[1;32m   1261\u001b[0m \u001b[38;5;28;01melse\u001b[39;00m:\n\u001b[1;32m   1262\u001b[0m     \u001b[38;5;28;01mreturn\u001b[39;00m \u001b[38;5;28msuper\u001b[39m()\u001b[38;5;241m.\u001b[39mrecv(buflen, flags)\n",
      "File \u001b[0;32m/opt/homebrew/Cellar/python@3.9/3.9.23/Frameworks/Python.framework/Versions/3.9/lib/python3.9/ssl.py:1135\u001b[0m, in \u001b[0;36mSSLSocket.read\u001b[0;34m(self, len, buffer)\u001b[0m\n\u001b[1;32m   1133\u001b[0m         \u001b[38;5;28;01mreturn\u001b[39;00m \u001b[38;5;28mself\u001b[39m\u001b[38;5;241m.\u001b[39m_sslobj\u001b[38;5;241m.\u001b[39mread(\u001b[38;5;28mlen\u001b[39m, buffer)\n\u001b[1;32m   1134\u001b[0m     \u001b[38;5;28;01melse\u001b[39;00m:\n\u001b[0;32m-> 1135\u001b[0m         \u001b[38;5;28;01mreturn\u001b[39;00m \u001b[38;5;28;43mself\u001b[39;49m\u001b[38;5;241;43m.\u001b[39;49m\u001b[43m_sslobj\u001b[49m\u001b[38;5;241;43m.\u001b[39;49m\u001b[43mread\u001b[49m\u001b[43m(\u001b[49m\u001b[38;5;28;43mlen\u001b[39;49m\u001b[43m)\u001b[49m\n\u001b[1;32m   1136\u001b[0m \u001b[38;5;28;01mexcept\u001b[39;00m SSLError \u001b[38;5;28;01mas\u001b[39;00m x:\n\u001b[1;32m   1137\u001b[0m     \u001b[38;5;28;01mif\u001b[39;00m x\u001b[38;5;241m.\u001b[39margs[\u001b[38;5;241m0\u001b[39m] \u001b[38;5;241m==\u001b[39m SSL_ERROR_EOF \u001b[38;5;129;01mand\u001b[39;00m \u001b[38;5;28mself\u001b[39m\u001b[38;5;241m.\u001b[39msuppress_ragged_eofs:\n",
      "\u001b[0;31mKeyboardInterrupt\u001b[0m: "
     ]
    }
   ],
   "source": [
    "# STRUCTURED JSON SCHEMA TEST - YENİ ÇÖZÜM\n",
    "print(\"🧪 YENİ STRUCTURED OUTPUT TESTİ:\")\n",
    "print(\"=\" * 60)\n",
    "\n",
    "# Test sohbeti\n",
    "test_chat = prepared_data['sentiment_data'][0]\n",
    "print(f\"Test Sohbeti: {test_chat['sohbet_id']}\")\n",
    "print(f\"Gerçek Sentiment: {test_chat['ground_truth_sentiment']}\")\n",
    "print(f\"\\nSohbet içeriği:\\n{test_chat['conversation']}\")\n",
    "\n",
    "# Yeni structured output ile test\n",
    "sentiment_result = analyzer.analyze_sentiment(\n",
    "    test_chat['conversation'], \n",
    "    str(test_chat['sohbet_id'])\n",
    ")\n",
    "\n",
    "print(f\"\\n📊 SENTIMENT SONUCU:\")\n",
    "print(f\"Gerçek: {test_chat['ground_truth_sentiment']}\")\n",
    "print(f\"Tahmin: {sentiment_result['predicted_sentiment']}\")\n",
    "print(f\"Açıklama: {sentiment_result['explanation']}\")\n",
    "print(f\"Ham Yanıt: {sentiment_result['raw_response']}\")\n",
    "print(f\"Doğru mu: {'✅' if sentiment_result['predicted_sentiment'] == test_chat['ground_truth_sentiment'] else '❌'}\")"
   ]
  },
  {
   "cell_type": "code",
   "execution_count": null,
   "metadata": {},
   "outputs": [
    {
     "name": "stdout",
     "output_type": "stream",
     "text": [
      "🎯 INTENT ANALİZİ TESTİ:\n",
      "============================================================\n",
      "Test Sohbeti: 90001\n",
      "Gerçek Intent: Eksik ürün\n",
      "\n",
      "📊 INTENT SONUCU:\n",
      "Gerçek Intent: Eksik ürün\n",
      "Tahmin Intent: Eksik ürün\n",
      "Gerçek Detay: Sipariş teslimatında eksik ürün\n",
      "Tahmin Detay: Müşteri, siparişinde bir ürün eksik geldiğini bildirdi ve nasıl ilerlemesi gerektiğini sordu. Sipariş numarası 98765432 verildi. Bot durumı inceleyerek eksik ürün bulunduğunu ve yeni ürünün en kısa sürede gönderileceğini belirtti.\n",
      "Tahmin Tür: Soru\n",
      "Ham Yanıt: {'intent': 'Eksik ürün', 'detail': 'Müşteri, siparişinde bir ürün eksik geldiğini bildirdi ve nasıl ilerlemesi gerektiğini sordu. Sipariş numarası 98765432 verildi. Bot durumı inceleyerek eksik ürün bulunduğunu ve yeni ürünün en kısa sürede gönderileceğini belirtti.', 'category': 'Soru'}\n",
      "Doğru mu: ✅\n"
     ]
    }
   ],
   "source": [
    "# Intent analizi test\n",
    "print(\"🎯 INTENT ANALİZİ TESTİ:\")\n",
    "print(\"=\" * 60)\n",
    "\n",
    "test_intent = prepared_data['intent_data'][0]\n",
    "print(f\"Test Sohbeti: {test_intent['sohbet_id']}\")\n",
    "print(f\"Gerçek Intent: {test_intent['ground_truth_intent']}\")\n",
    "\n",
    "intent_result = analyzer.analyze_intent(\n",
    "    test_intent['conversation'], \n",
    "    str(test_intent['sohbet_id'])\n",
    ")\n",
    "\n",
    "print(f\"\\n📊 INTENT SONUCU:\")\n",
    "print(f\"Gerçek Intent: {test_intent['ground_truth_intent']}\")\n",
    "print(f\"Tahmin Intent: {intent_result['predicted_intent']}\")\n",
    "print(f\"Gerçek Detay: {test_intent['ground_truth_intent_detay']}\")\n",
    "print(f\"Tahmin Detay: {intent_result['predicted_detail']}\")\n",
    "print(f\"Tahmin Tür: {intent_result['predicted_category']}\")\n",
    "print(f\"Ham Yanıt: {intent_result['raw_response']}\")\n",
    "print(f\"Doğru mu: {'✅' if intent_result['predicted_intent'] == test_intent['ground_truth_intent'] else '❌'}\")"
   ]
  },
  {
   "cell_type": "code",
   "execution_count": null,
   "metadata": {},
   "outputs": [
    {
     "name": "stdout",
     "output_type": "stream",
     "text": [
      "🔧 ÇÖZÜM DURUMU TAHMİNİ TESTİ:\n",
      "============================================================\n",
      "Test Sohbeti: 90001\n",
      "Gerçek Durum: Çözüldü\n",
      "\n",
      "📊 ÇÖZÜM SONUCU:\n",
      "Gerçek Durum: Çözüldü\n",
      "Tahmin Durum: Çözüldü\n",
      "Açıklama: Müşterinin siparişindeki eksik ürün için yeni ürünün gönderileceği bilgisi verildi ve müşteri bunu memnuniyetle karşıladı (teşekkür etti). Bu memnun ifade ve somut aksiyon (gönderim) durumunu çözüldü olarak değerlendirir.\n",
      "Güven Düzeyi: Yüksek\n",
      "Ham Yanıt: {'status': 'Çözüldü', 'explanation': 'Müşterinin siparişindeki eksik ürün için yeni ürünün gönderileceği bilgisi verildi ve müşteri bunu memnuniyetle karşıladı (teşekkür etti). Bu memnun ifade ve somut aksiyon (gönderim) durumunu çözüldü olarak değerlendirir.', 'confidence': 'Yüksek'}\n",
      "Doğru mu: ✅\n"
     ]
    }
   ],
   "source": [
    "# Çözüm durumu tahmini test\n",
    "print(\"🔧 ÇÖZÜM DURUMU TAHMİNİ TESTİ:\")\n",
    "print(\"=\" * 60)\n",
    "\n",
    "test_resolution = prepared_data['resolution_data'][0]\n",
    "print(f\"Test Sohbeti: {test_resolution['sohbet_id']}\")\n",
    "print(f\"Gerçek Durum: {test_resolution['ground_truth_resolution']}\")\n",
    "\n",
    "resolution_result = analyzer.predict_resolution(\n",
    "    test_resolution['conversation'], \n",
    "    str(test_resolution['sohbet_id'])\n",
    ")\n",
    "\n",
    "print(f\"\\n📊 ÇÖZÜM SONUCU:\")\n",
    "print(f\"Gerçek Durum: {test_resolution['ground_truth_resolution']}\")\n",
    "print(f\"Tahmin Durum: {resolution_result['predicted_resolution']}\")\n",
    "print(f\"Açıklama: {resolution_result['explanation']}\")\n",
    "print(f\"Güven Düzeyi: {resolution_result['confidence']}\")\n",
    "print(f\"Ham Yanıt: {resolution_result['raw_response']}\")\n",
    "print(f\"Doğru mu: {'✅' if resolution_result['predicted_resolution'] == test_resolution['ground_truth_resolution'] else '❌'}\")"
   ]
  },
  {
   "cell_type": "markdown",
   "metadata": {},
   "source": [
    "## 9. Toplu Analiz Fonksiyonu"
   ]
  },
  {
   "cell_type": "code",
   "execution_count": null,
   "metadata": {},
   "outputs": [],
   "source": [
    "# Tüm 40 sohbet için toplu analiz fonksiyonu - GÜNCELLENDİ\n",
    "def run_full_batch_analysis(analyzer: OpenAIAnalyzer, data_subset: List[Dict], analysis_type: str):\n",
    "    \"\"\"\n",
    "    Tüm sohbetler için analiz çalıştırır (40 sohbet)\n",
    "    \"\"\"\n",
    "    results = []\n",
    "    total_chats = len(data_subset)\n",
    "    \n",
    "    print(f\"🚀 {analysis_type} analizi başlatılıyor... (Toplam {total_chats} sohbet)\")\n",
    "    print(\"=\" * 60)\n",
    "    \n",
    "    for i, chat_data in enumerate(data_subset):\n",
    "        print(f\"İşleniyor: {i+1}/{total_chats} - Chat ID: {chat_data['sohbet_id']}\")\n",
    "        \n",
    "        chat_id = str(chat_data['sohbet_id'])\n",
    "        conversation = chat_data['conversation']\n",
    "        \n",
    "        try:\n",
    "            if analysis_type == \"sentiment\":\n",
    "                result = analyzer.analyze_sentiment(conversation, chat_id)\n",
    "                result['ground_truth'] = chat_data['ground_truth_sentiment']\n",
    "                \n",
    "            elif analysis_type == \"intent\":\n",
    "                result = analyzer.analyze_intent(conversation, chat_id)\n",
    "                result['ground_truth_intent'] = chat_data['ground_truth_intent']\n",
    "                result['ground_truth_detail'] = chat_data['ground_truth_intent_detay']\n",
    "                result['ground_truth_tur'] = chat_data['ground_truth_tur']\n",
    "                \n",
    "            elif analysis_type == \"resolution\":\n",
    "                result = analyzer.predict_resolution(conversation, chat_id)\n",
    "                result['ground_truth'] = chat_data['ground_truth_resolution']\n",
    "            \n",
    "            results.append(result)\n",
    "            \n",
    "            # İlerleme göstergesi\n",
    "            if (i + 1) % 10 == 0:\n",
    "                print(f\"✅ {i + 1} sohbet tamamlandı!\")\n",
    "                \n",
    "        except Exception as e:\n",
    "            print(f\"❌ Hata (Chat {chat_id}): {e}\")\n",
    "            # Hata durumunda varsayılan sonuç ekle\n",
    "            error_result = {\n",
    "                'chat_id': chat_id,\n",
    "                'error': str(e)\n",
    "            }\n",
    "            if analysis_type == \"sentiment\":\n",
    "                error_result['predicted_sentiment'] = 'Nötr'\n",
    "                error_result['explanation'] = f'Hata: {str(e)}'\n",
    "                error_result['ground_truth'] = chat_data['ground_truth_sentiment']\n",
    "            elif analysis_type == \"intent\":\n",
    "                error_result['predicted_intent'] = 'Destek'\n",
    "                error_result['predicted_detail'] = f'Hata: {str(e)}'\n",
    "                error_result['predicted_category'] = 'Soru'\n",
    "                error_result['ground_truth_intent'] = chat_data['ground_truth_intent']\n",
    "                error_result['ground_truth_detail'] = chat_data['ground_truth_intent_detay']\n",
    "                error_result['ground_truth_tur'] = chat_data['ground_truth_tur']\n",
    "            elif analysis_type == \"resolution\":\n",
    "                error_result['predicted_resolution'] = 'Çözülemedi'\n",
    "                error_result['explanation'] = f'Hata: {str(e)}'\n",
    "                error_result['confidence'] = 'Düşük'\n",
    "                error_result['ground_truth'] = chat_data['ground_truth_resolution']\n",
    "            results.append(error_result)\n",
    "        \n",
    "        # Rate limiting - API limits için bekleme\n",
    "        time.sleep(1)\n",
    "    \n",
    "    print(f\"✅ {analysis_type} analizi tamamlandı! ({total_chats} sohbet)\")\n",
    "    return results\n",
    "\n",
    "print(\"✅ Tüm 40 sohbet için güncellenmiş toplu analiz fonksiyonu hazır!\")"
   ]
  },
  {
   "cell_type": "markdown",
   "metadata": {},
   "source": [
    "## 10. Sınırlı Batch Analizi - Sentiment"
   ]
  },
  {
   "cell_type": "code",
   "execution_count": null,
   "metadata": {},
   "outputs": [
    {
     "name": "stdout",
     "output_type": "stream",
     "text": [
      "🚀 sentiment analizi başlatılıyor... (İlk 5 sohbet)\n",
      "İşleniyor: 1/5\n",
      "İşleniyor: 2/5\n",
      "İşleniyor: 3/5\n",
      "İşleniyor: 4/5\n",
      "İşleniyor: 5/5\n",
      "✅ sentiment analizi tamamlandı!\n"
     ]
    }
   ],
   "source": [
    "# İlk 5 sohbet için sentiment analizi\n",
    "sentiment_results = run_batch_analysis(\n",
    "    analyzer, \n",
    "    prepared_data['sentiment_data'], \n",
    "    \"sentiment\", \n",
    "    max_requests=5\n",
    ")"
   ]
  },
  {
   "cell_type": "code",
   "execution_count": null,
   "metadata": {},
   "outputs": [
    {
     "name": "stdout",
     "output_type": "stream",
     "text": [
      "📊 SENTIMENT ANALİZİ SONUÇLARI:\n",
      "==================================================\n",
      "Chat 90001: Pozitif → Pozitif ✅\n",
      "  Açıklama: Müşterinin eksik ürün sorunu çözüldü; teşekkür etti ve olumlu geri dönüş sağlandı.\n",
      "  Ham Yanıt: {'sentiment': 'Pozitif', 'explanation': 'Müşterinin eksik ürün sorunu çözüldü; teşekkür etti ve olum...\n",
      "\n",
      "Chat 90002: Negatif → Negatif ✅\n",
      "  Açıklama: Kullanıcı hesap giriş problemi yaşıyor, şifre sıfırlama linkinin gelmediğini belirtiyor ve 'bu durum çok can sıkıcı' diyerek rahatsızlık ve memnuniyetsizlik ifade ediyor.\n",
      "  Ham Yanıt: {'sentiment': 'Negatif', 'explanation': \"Kullanıcı hesap giriş problemi yaşıyor, şifre sıfırlama lin...\n",
      "\n",
      "Chat 90003: Nötr → Pozitif ❌\n",
      "  Açıklama: Müşteri teşekkür etti ve bilgilendirilmeyi teyit etti; süreç netleşti ve olumlu bir iletişim sağlandı.\n",
      "  Ham Yanıt: {'sentiment': 'Pozitif', 'explanation': 'Müşteri teşekkür etti ve bilgilendirilmeyi teyit etti; süre...\n",
      "\n",
      "Chat 90004: Negatif → Negatif ✅\n",
      "  Açıklama: Müşteri kupon kodunun çalışmaması nedeniyle sorun bildiriyor ve denenen çözümlere rağmen devam ettiği için hayal kırıklığı ve öfke ifade ediyor. 'Sizinle konuşmak zaman kaybı oldu' ve 'Hiç yardımcı olmuyorsunuz' ifadeleriyle memnuniyetsizliğini dile getiriyor.\n",
      "  Ham Yanıt: {'sentiment': 'Negatif', 'explanation': \"Müşteri kupon kodunun çalışmaması nedeniyle sorun bildiriyo...\n",
      "\n",
      "Chat 90005: Pozitif → Pozitif ✅\n",
      "  Açıklama: Müşteri sipariş iptali talebini olumlu bir şekilde iletti ve sorun çözülüp teşekkür etti; iade süreci de başlatılacak.\n",
      "  Ham Yanıt: {'sentiment': 'Pozitif', 'explanation': 'Müşteri sipariş iptali talebini olumlu bir şekilde iletti v...\n",
      "\n",
      "🎯 Sentiment Doğruluk Oranı: 80.0% (4/5)\n"
     ]
    }
   ],
   "source": [
    "# Sentiment analizi sonuçlarını değerlendir\n",
    "print(\"📊 SENTIMENT ANALİZİ SONUÇLARI:\")\n",
    "print(\"=\" * 50)\n",
    "\n",
    "correct_predictions = 0\n",
    "for result in sentiment_results:\n",
    "    is_correct = result['predicted_sentiment'] == result['ground_truth']\n",
    "    if is_correct:\n",
    "        correct_predictions += 1\n",
    "    \n",
    "    print(f\"Chat {result['chat_id']}: {result['ground_truth']} → {result['predicted_sentiment']} {'✅' if is_correct else '❌'}\")\n",
    "    print(f\"  Açıklama: {result['explanation']}\")\n",
    "    print(f\"  Ham Yanıt: {result['raw_response'][:100]}...\")\n",
    "    print()\n",
    "\n",
    "sentiment_accuracy = (correct_predictions / len(sentiment_results)) * 100\n",
    "print(f\"🎯 Sentiment Doğruluk Oranı: {sentiment_accuracy:.1f}% ({correct_predictions}/{len(sentiment_results)})\")"
   ]
  },
  {
   "cell_type": "markdown",
   "metadata": {},
   "source": [
    "## 11. Sınırlı Batch Analizi - Intent"
   ]
  },
  {
   "cell_type": "code",
   "execution_count": null,
   "metadata": {},
   "outputs": [
    {
     "name": "stdout",
     "output_type": "stream",
     "text": [
      "🚀 intent analizi başlatılıyor... (İlk 3 sohbet)\n",
      "İşleniyor: 1/3\n",
      "İşleniyor: 2/3\n",
      "İşleniyor: 3/3\n",
      "✅ intent analizi tamamlandı!\n"
     ]
    }
   ],
   "source": [
    "# İlk 3 sohbet için intent analizi (daha az çünkü daha uzun)\n",
    "intent_results = run_batch_analysis(\n",
    "    analyzer, \n",
    "    prepared_data['intent_data'], \n",
    "    \"intent\", \n",
    "    max_requests=3\n",
    ")"
   ]
  },
  {
   "cell_type": "code",
   "execution_count": null,
   "metadata": {},
   "outputs": [
    {
     "name": "stdout",
     "output_type": "stream",
     "text": [
      "🎯 INTENT ANALİZİ SONUÇLARI:\n",
      "==================================================\n",
      "Chat 90001:\n",
      "  Gerçek: Eksik ürün | Tahmin: Eksik ürün ✅\n",
      "  Detay: Sipariş numarası 98765432'de eksik ürün bildirildi; müşteri 'Ne yapmalıyım?' diye bilgi talep etti. Sistem kontrolü sonrası hatanın tespit edildi ve eksik ürün için yeni ürün gönderileceği bilgisi paylaşıldı.\n",
      "  Tür: Soru\n",
      "  Ham Yanıt: {'intent': 'Eksik ürün', 'detail': \"Sipariş numarası 98765432'de eksik ürün bildirildi; müşteri 'Ne ...\n",
      "\n",
      "Chat 90002:\n",
      "  Gerçek: Şifre sıfırlama | Tahmin: Şifre sıfırlama ✅\n",
      "  Detay: Hesabına giriş yapamıyor; şifremi unuttum. Şifre sıfırlama linki için e-posta adresini girdim; fakat link gelmiyor. E-posta kutusunu spam klasörü dahil kontrol ettim; hiçbir yerde yok. Başka bir yol yok mu? Alternatif yöntemler (SMS/telefon doğrulama veya manuel sıfırlama) talep ediyor.\n",
      "  Tür: Sorun\n",
      "  Ham Yanıt: {'intent': 'Şifre sıfırlama', 'detail': 'Hesabına giriş yapamıyor; şifremi unuttum. Şifre sıfırlama ...\n",
      "\n",
      "Chat 90003:\n",
      "  Gerçek: İade | Tahmin: İade ✅\n",
      "  Detay: İade sürecinin nasıl işlediğini ve gerekli adımları öğrenmek istiyor.\n",
      "  Tür: Soru\n",
      "  Ham Yanıt: {'intent': 'İade', 'detail': 'İade sürecinin nasıl işlediğini ve gerekli adımları öğrenmek istiyor.'...\n",
      "\n",
      "🎯 Intent Doğruluk Oranı: 100.0% (3/3)\n"
     ]
    }
   ],
   "source": [
    "# Intent analizi sonuçlarını değerlendir\n",
    "print(\"🎯 INTENT ANALİZİ SONUÇLARI:\")\n",
    "print(\"=\" * 50)\n",
    "\n",
    "intent_correct = 0\n",
    "for result in intent_results:\n",
    "    is_correct = result['predicted_intent'] == result['ground_truth_intent']\n",
    "    if is_correct:\n",
    "        intent_correct += 1\n",
    "    \n",
    "    print(f\"Chat {result['chat_id']}:\")\n",
    "    print(f\"  Gerçek: {result['ground_truth_intent']} | Tahmin: {result['predicted_intent']} {'✅' if is_correct else '❌'}\")\n",
    "    print(f\"  Detay: {result['predicted_detail']}\")\n",
    "    print(f\"  Tür: {result['predicted_category']}\")\n",
    "    print(f\"  Ham Yanıt: {result['raw_response'][:100]}...\")\n",
    "    print()\n",
    "\n",
    "intent_accuracy = (intent_correct / len(intent_results)) * 100\n",
    "print(f\"🎯 Intent Doğruluk Oranı: {intent_accuracy:.1f}% ({intent_correct}/{len(intent_results)})\")"
   ]
  },
  {
   "cell_type": "markdown",
   "metadata": {},
   "source": [
    "## 12. Sınırlı Batch Analizi - Resolution"
   ]
  },
  {
   "cell_type": "code",
   "execution_count": null,
   "metadata": {},
   "outputs": [
    {
     "name": "stdout",
     "output_type": "stream",
     "text": [
      "🚀 resolution analizi başlatılıyor... (İlk 3 sohbet)\n",
      "İşleniyor: 1/3\n",
      "İşleniyor: 2/3\n",
      "İşleniyor: 3/3\n",
      "✅ resolution analizi tamamlandı!\n"
     ]
    }
   ],
   "source": [
    "# İlk 3 sohbet için çözüm durumu analizi\n",
    "resolution_results = run_batch_analysis(\n",
    "    analyzer, \n",
    "    prepared_data['resolution_data'], \n",
    "    \"resolution\", \n",
    "    max_requests=3\n",
    ")"
   ]
  },
  {
   "cell_type": "code",
   "execution_count": null,
   "metadata": {},
   "outputs": [
    {
     "name": "stdout",
     "output_type": "stream",
     "text": [
      "🔧 ÇÖZÜM DURUMU ANALİZİ SONUÇLARI:\n",
      "==================================================\n",
      "Chat 90001:\n",
      "  Gerçek: Çözüldü | Tahmin: Çözüldü ✅\n",
      "  Açıklama: Eksik ürün sorunu doğrulandı; hatalı/eksik ürün için düzeltici işlem başlatıldı ve yerine yeni ürün en kısa sürede gönderilecek, müşteri teşekkür etti ve memnun görünüyor.\n",
      "  Güven: Yüksek\n",
      "  Ham Yanıt: {'status': 'Çözüldü', 'explanation': 'Eksik ürün sorunu doğrulandı; hatalı/eksik ürün için düzeltici...\n",
      "\n",
      "Chat 90002:\n",
      "  Gerçek: Çözülemedi | Tahmin: Çözülemedi ✅\n",
      "  Açıklama: Hesaba giriş sorunu yaşanıyor; müşteri şifresini unuttu ve şifre sıfırlama linki gelmiyor. Müşteri linkin spam klasörünü kontrol etmiş durumda; sonuç negatif. Şu ana kadar sorun için somut aksiyon (yeniden link gönderimi, hesap doğrulama, alternatif yöntem) alınmadı; müşteri hâlâ çözüme kavuşmuş değil ve durum can sıkıcı olarak ifade edildi. Önerilen sonraki adımlar: 1) Şifre sıfırlama linkinin müşterinin hesabına yeniden gönderilmesini sağlamak ve teslimat durumunu kontrol etmek; 2) E-posta adresinin doğruluğunu teyit etmek ve mail akışında herhangi bir engel/filtre varsa çözümlemek; 3) Alternatif doğrulama yöntemlerini (SMS ile kod, güvenlik soruları) sunmak veya hesap kurtarma sürecini başlatmak; 4) Gerekirse müşteriden ek iletişim bilgisi/telefon numarası almak ve süreci hızla ilerletmek.\n",
      "  Güven: Yüksek\n",
      "  Ham Yanıt: {'status': 'Çözülemedi', 'explanation': 'Hesaba giriş sorunu yaşanıyor; müşteri şifresini unuttu ve ...\n",
      "\n",
      "Chat 90003:\n",
      "  Gerçek: Çözüldü | Tahmin: Çözüldü ✅\n",
      "  Açıklama: İade süreci hakkında bilgi verildi: iade süresi 14 gün, ürünü orijinal ambalajıyla kargoya verme talimatı ve iade kodu oluşturmak için sipariş numarasının alınması gerektiği belirtildi. Müşteri 'Anladım, teşekkürler' dediği için memnuniyet gösterdi; bu nedenle sorun çözüldü.\n",
      "  Güven: Yüksek\n",
      "  Ham Yanıt: {'status': 'Çözüldü', 'explanation': \"İade süreci hakkında bilgi verildi: iade süresi 14 gün, ürünü ...\n",
      "\n",
      "🎯 Çözüm Durumu Doğruluk Oranı: 100.0% (3/3)\n"
     ]
    }
   ],
   "source": [
    "# Çözüm durumu analizi sonuçlarını değerlendir\n",
    "print(\"🔧 ÇÖZÜM DURUMU ANALİZİ SONUÇLARI:\")\n",
    "print(\"=\" * 50)\n",
    "\n",
    "resolution_correct = 0\n",
    "for result in resolution_results:\n",
    "    is_correct = result['predicted_resolution'] == result['ground_truth']\n",
    "    if is_correct:\n",
    "        resolution_correct += 1\n",
    "    \n",
    "    print(f\"Chat {result['chat_id']}:\")\n",
    "    print(f\"  Gerçek: {result['ground_truth']} | Tahmin: {result['predicted_resolution']} {'✅' if is_correct else '❌'}\")\n",
    "    print(f\"  Açıklama: {result['explanation']}\")\n",
    "    print(f\"  Güven: {result['confidence']}\")\n",
    "    print(f\"  Ham Yanıt: {result['raw_response'][:100]}...\")\n",
    "    print()\n",
    "\n",
    "resolution_accuracy = (resolution_correct / len(resolution_results)) * 100\n",
    "print(f\"🎯 Çözüm Durumu Doğruluk Oranı: {resolution_accuracy:.1f}% ({resolution_correct}/{len(resolution_results)})\")"
   ]
  },
  {
   "cell_type": "markdown",
   "metadata": {},
   "source": [
    "## 13. Sonuçları Kaydetme"
   ]
  },
  {
   "cell_type": "code",
   "execution_count": null,
   "metadata": {},
   "outputs": [
    {
     "name": "stdout",
     "output_type": "stream",
     "text": [
      "✅ Analiz sonuçları 'openai_analysis_results_structured.json' dosyasına kaydedildi\n"
     ]
    }
   ],
   "source": [
    "# Analiz sonuçlarını kaydet\n",
    "analysis_results = {\n",
    "    'timestamp': datetime.now().isoformat(),\n",
    "    'model_used': analyzer.model,\n",
    "    'method': 'structured_json_schema_pydantic',\n",
    "    'sentiment_analysis': {\n",
    "        'results': sentiment_results,\n",
    "        'accuracy': sentiment_accuracy,\n",
    "        'total_analyzed': len(sentiment_results)\n",
    "    },\n",
    "    'intent_analysis': {\n",
    "        'results': intent_results,\n",
    "        'accuracy': intent_accuracy,\n",
    "        'total_analyzed': len(intent_results)\n",
    "    },\n",
    "    'resolution_analysis': {\n",
    "        'results': resolution_results,\n",
    "        'accuracy': resolution_accuracy,\n",
    "        'total_analyzed': len(resolution_results)\n",
    "    }\n",
    "}\n",
    "\n",
    "# Sonuçları kaydet\n",
    "with open('openai_analysis_results_structured.json', 'w', encoding='utf-8') as f:\n",
    "    json.dump(analysis_results, f, ensure_ascii=False, indent=2)\n",
    "\n",
    "print(\"✅ Analiz sonuçları 'openai_analysis_results_structured.json' dosyasına kaydedildi\")"
   ]
  },
  {
   "cell_type": "markdown",
   "metadata": {},
   "source": [
    "## 14. Özet ve Değerlendirme"
   ]
  },
  {
   "cell_type": "code",
   "execution_count": null,
   "metadata": {},
   "outputs": [
    {
     "name": "stdout",
     "output_type": "stream",
     "text": [
      "🎉 STRUCTURED JSON SCHEMA İLE OPENAI API ENTEGRASYONİ TAMAMLANDI!\n",
      "======================================================================\n",
      "📊 Analiz Özeti:\n",
      "  Model: gpt-5-nano\n",
      "  Yöntem: Structured JSON Schema (Pydantic)\n",
      "  Sentiment Doğruluk: %80.0\n",
      "  Intent Doğruluk: %100.0\n",
      "  Çözüm Durumu Doğruluk: %100.0\n",
      "  Toplam API Çağrısı: 11\n",
      "\n",
      "🎯 Avantajlar:\n",
      "  ✅ Boş çıktı problemi çözüldü\n",
      "  ✅ JSON parsing hatası yok\n",
      "  ✅ Otomatik schema validation\n",
      "  ✅ Daha güvenilir sonuçlar\n",
      "\n",
      "🚀 Sonraki Adımlar:\n",
      "  1. Daha fazla veri ile test\n",
      "  2. Prompt optimization\n",
      "  3. Model performans karşılaştırması\n",
      "  4. Production deployment\n",
      "\n",
      "📈 Performans Karşılaştırması:\n",
      "  Eski Yöntem: Manuel parsing, boş çıktılar, %20 sentiment accuracy\n",
      "  Yeni Yöntem: Structured output, %80.0 sentiment accuracy\n"
     ]
    }
   ],
   "source": [
    "print(\"🎉 STRUCTURED JSON SCHEMA İLE OPENAI API ENTEGRASYONİ TAMAMLANDI!\")\n",
    "print(\"=\" * 70)\n",
    "print(f\"📊 Analiz Özeti:\")\n",
    "print(f\"  Model: {analyzer.model}\")\n",
    "print(f\"  Yöntem: Structured JSON Schema (Pydantic)\")\n",
    "print(f\"  Sentiment Doğruluk: %{sentiment_accuracy:.1f}\")\n",
    "print(f\"  Intent Doğruluk: %{intent_accuracy:.1f}\")\n",
    "print(f\"  Çözüm Durumu Doğruluk: %{resolution_accuracy:.1f}\")\n",
    "print(f\"  Toplam API Çağrısı: {len(sentiment_results) + len(intent_results) + len(resolution_results)}\")\n",
    "\n",
    "print(\"\\n🎯 Avantajlar:\")\n",
    "print(\"  ✅ Boş çıktı problemi çözüldü\")\n",
    "print(\"  ✅ JSON parsing hatası yok\")\n",
    "print(\"  ✅ Otomatik schema validation\")\n",
    "print(\"  ✅ Daha güvenilir sonuçlar\")\n",
    "\n",
    "print(\"\\n🚀 Sonraki Adımlar:\")\n",
    "print(\"  1. Daha fazla veri ile test\")\n",
    "print(\"  2. Prompt optimization\")\n",
    "print(\"  3. Model performans karşılaştırması\")\n",
    "print(\"  4. Production deployment\")\n",
    "\n",
    "print(\"\\n📈 Performans Karşılaştırması:\")\n",
    "print(\"  Eski Yöntem: Manuel parsing, boş çıktılar, %20 sentiment accuracy\")\n",
    "print(f\"  Yeni Yöntem: Structured output, %{sentiment_accuracy:.1f} sentiment accuracy\")"
   ]
  }
 ],
 "metadata": {
  "kernelspec": {
   "display_name": "Python 3.9.6",
   "language": "python",
   "name": "py396"
  },
  "language_info": {
   "codemirror_mode": {
    "name": "ipython",
    "version": 3
   },
   "file_extension": ".py",
   "mimetype": "text/x-python",
   "name": "python",
   "nbconvert_exporter": "python",
   "pygments_lexer": "ipython3",
   "version": "3.9.23"
  }
 },
 "nbformat": 4,
 "nbformat_minor": 4
}